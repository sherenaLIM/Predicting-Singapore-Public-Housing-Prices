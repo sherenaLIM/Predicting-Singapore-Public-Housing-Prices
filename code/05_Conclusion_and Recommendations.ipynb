{
 "cells": [
  {
   "cell_type": "markdown",
   "id": "fcd379be-bcb4-4524-bfb0-8e830ecb9361",
   "metadata": {},
   "source": [
    "## Project_2: Drivers of HDB Resale Price and Prediction\n",
    "- 05 Conclusion and Recommendations"
   ]
  },
  {
   "cell_type": "markdown",
   "id": "cb301cfe-4828-428a-8b0d-6d8f86ecb5dd",
   "metadata": {},
   "source": [
    "#### Content\n",
    "> * [Problem Statement](#problem_statement) \n",
    "> * [Data Cleaning](#data_cleaning)\n",
    "> * [EDA](#eda)\n",
    "> * [Preprocessing and Modeling](#preprocessing_and_modeling)\n",
    "> * [Evaluation and Conceptual Understanding](#evaluation_and_conceptual_understanding)\n",
    "> * [Conclusion and Recommendations](#conclusion_and_recommendations)"
   ]
  },
  {
   "cell_type": "markdown",
   "id": "5f3cdca9-e74b-4a4a-b261-558b657d1397",
   "metadata": {},
   "source": [
    "---\n",
    "<a id='problem_statement'></a>\n",
    "## Problem Statement\n",
    "\n",
    "Over the years, Singapore has seen the puzzling rise of public housing in the resale market with million dollar price tags, supporting the theory that “decent gains” can still be acquired, especially for HDB flats bought at subsidised prices from the Government. What are the factors contributing to high upside potential for these units? \n",
    "\n",
    "Research Findings: Property value is affected by the confluence of macro and micro, demand and supply factors.  \n",
    "\n",
    "<details><summary> (1) Demand-pull inflation caused by shifts in socio-demographic micro-trends. </summary>\n",
    "- Many young couples are willing to pay a premium to acquire a resale flat to avoid delaying plans to start a family. \n",
    "- More millenials are also opting to remain single and aspire to move out of their nests before they are eligible to purchase a BTO, to alleviate the strain on relationships and their mental health. Covid-19 has likely accelerated the desire to move out for many millenials.\n",
    "- In response to these socio-demographic trends, the government is rethinking the 35 year-old age requirement for single Singaporeans. could elevate the demand for resale flats even further. \n",
    "- Based on a study conducted by the Ministry of Finance, Singaporeans' education, employment, wage outcomes have improved over the generations. Many are gainfully employed, as reflected in the high proportion of Singapore citizens in employment and the low unemployment rate.\n",
    "</details>\n",
    "<br> \n",
    "<details><summary> (2) Demand-pull inflation in the private housing market. </summary>\n",
    "- Historical data on private property housing has shown that while sales volume and prices usually dip during a crisis such as a high inflation, high interest rate environment, it has not been the case for the private housing market in Singapore. More wealthy individuals from China and Hong Kong are moving into the Singapore private property market to escape XJP's common prosperity doctrine. This will drive the prices of private condominiums even higher, making it less affordable for many middle income Singaporeans. Being priced out of the private housing market, this substantial group of consumers will turn to the next best alternative - spacious resale flats. Demand for resale flats is projected to increase even more, driving resale prices even higher. \n",
    "</details>\n",
    "<br> \n",
    "<details><summary> (3) Material cost-push inflation due to supply-chain disruptions, increasing costs of production. </summary>\n",
    "- Supply disruptions from the Russia-Ukraine war and ongoing supply chain issues caused prices of core construction materials in Singapore, such as copper, steel, concrete, cement and bricks, to inflate and material costs are projected to remain elevated in the next few quarters. \n",
    "- Costs of production has yet to be offset by increasing productivity as digitalisation of the construction workforce is not an overnight process.\n",
    "</details>\n",
    "<br>\n",
    "<details><summary> (4) Material cost-push inflation compounded by high-interest rates. </summary>\n",
    "- As FEDs are resolute in their fight against inflation, businesses suffer amidst hawkish quantitative tightening (contractionary monetary policy). High interest rates reduce the developer’s ability to service debt, as rising costs are incurred by the organization with no corresponding increase in revenues to offset while the construction is on-going.\n",
    "- These costs are likely to be passed on to home-buyers. \n",
    "</details>\n",
    "<br>\n",
    "You are part of the Research & Consultancy team in PropNext. Propnext would like to ride on the wave and increase the number of high-value sales and purchase transactions intermediated by PropNext agents. PropNext is looking to develop an in-house mobile application that is able to predict the selling price of HDB resale flats. The application would help real estate agents detect and look out for units with huge upside potential, so as to rake in higher commissions per sale. The team has to identify high-yield features that contribute to the appreciation of units and report their findings to the software development team in 2 weeks' time. The software developers will then communicate the requirements to the software engineers who would then build the application with the embedded predictive function in collaboration with data scientists. "
   ]
  },
  {
   "cell_type": "markdown",
   "id": "dc4734e9-399e-4210-99a2-94c02ff5396f",
   "metadata": {},
   "source": [
    "Task: Use the Singapore public housing data to create a regression model that predicts the `resale_price` of Housing Development Board (HDB) flats in Singapore."
   ]
  },
  {
   "cell_type": "markdown",
   "id": "2debe0f3-748b-4762-a7bc-b06d271508b7",
   "metadata": {},
   "source": [
    "---\n",
    "<a id='conclusion_and_recommendations'></a>\n",
    "## 6. Conclusion and Recommendations"
   ]
  },
  {
   "cell_type": "markdown",
   "id": "20c72693-6594-4d40-b55f-9beaae5b1af1",
   "metadata": {},
   "source": [
    "## Key Findings \n",
    "\n",
    "1. The following features are included in your model:\n",
    "\n",
    "| Feature of Importance | Datatype | Proposed Relationship wth Target Variable |\n",
    "|---|---|---|\n",
    "|`hdb_age`|numeric (int64)|inversely proportionate - as hdb age increases/ remaining lease period decreases, causing the value of the flat to depreciate |\n",
    "|`max_floor_lvl`|numeric (int64)|directly proportionate - as the maximum floor level of the project increases, the value of the units within the development appreciates |\n",
    "|`floor_area_sqft`|numeric (float64)|directly proportionate - as the floor area (sqft) increase the value of the unit increases|\n",
    "|`mall_nearest_distance`|numeric (float64)|inversely proportionate - the nearer you are to the mall, the higher the value of your property|\n",
    "|`hawker_nearest_distance`|numeric (float64)|proximity to hawker has no apparent effect on resale price|\n",
    "|`mrt_nearest_distance`|numeric (float64)|inversely proportionate - the nearer you are to a transportation node, the higher the value of your property|\n",
    "|`bus_stop_nearest_distance`|numeric (float64)|directly proportionate - the further you are from a bus stop, the higher the value of the property |\n",
    "|`pri_sch_nearest_distance`|numeric (float64)|inversely proportionate - the nearer you are to a primary school, the higher the value of your property|\n",
    "|`sec_sch_nearest_dist`|numeric (float64)|directly proportionate - the further you are from a secondary school, the higher the value of your property|\n",
    "|`flat_type_cat`|numeric (int8)|label encoded - the larger the flat type, the higher the value of the unit|\n",
    "|`storey_range_cat`|numeric (int8)|label encoded - the higher the storey range of the unit, the higher the value of the unit|\n",
    "|'flat_model_Apartment', 'flat_model_Maisonette', 'flat_model_Model A', 'flat_model_Multi Generation', 'flat_model_New Generation', 'flat_model_Specia' |numeric (uint8)|dummy encoded - no apparent trend for resale price of different flat models|\n",
    "|'planning_area_west', 'planning_area_north_east', 'planning_area_east', 'planning_area_north' |numeric (uint8)|dummy encoded - flats located in the central region were priced the highest, followed by flats in the west, north-east, and the east, with flats in the north region commanding the lowest resale prices|\n",
    "\n",
    "<br> \n",
    "\n",
    "2. Model Selection (Equation): 𝑦̂ =𝛽0+𝛽1𝑥1+⋯+𝛽𝑁𝑥𝑁\n",
    "\n",
    "3. Optimization Algorithm Selection: Linear Algebra (Direct Solution)\n",
    "\n",
    "4. Loss Function Selection: $$RMSE = \\sqrt{\\frac{1}{n}\\sum_{i=1}^n(y_i-\\hat{y}_i)^2}$$"
   ]
  },
  {
   "cell_type": "markdown",
   "id": "a4f221e2-95f8-4805-bd0b-7273fb30559b",
   "metadata": {},
   "source": [
    "### Business Recommendations\n",
    "<details> <summary> 1.  Which features appear to add the most value to a home? </summary>\n",
    "Based on the coefficients of the first trial model, the following features are as follows:<br>\n",
    "    - `flat_model_Special` (+141k per unit increase, ceteris paribus)\n",
    "    <br>\n",
    "    - `flat_model_Multi Generation` (+120k per unit increase, ceteris paribus)\n",
    "    <br>\n",
    "    - `floor_area_sqft` (+77k per unit increase, ceteris paribus)\n",
    "    <br> \n",
    "    - `flat_model_Maisonette` (+68k per unit increase, ceteris paribus)\n",
    "    <br>\n",
    "    - `flat_model_New Generation` (+41k per unit increase, cetris paribus)\n",
    "    <br>\n",
    "    - `max_floor_lvl` (+23k per unit increase, ceteris paribus)\n",
    "    <br>\n",
    "    - `flat_type_cat` (+21k per unit increase, ceteris paribus)\n",
    "    <br> \n",
    "    - `storey_range_cat` (+19k per unit increase, ceteris paribus)\n",
    "    <br>\n",
    "    - `flat_model_Apartment` (+14k per unit increase, ceteris paribus)\n",
    "    <br>\n",
    "    - `flat_model_Model A` (+13k per unit increase, ceteris paribus)\n",
    "</details> \n",
    "    \n",
    "<details><summary> 2. Which features hurt the value of a home the most? </summary>\n",
    "Based on the coefficients of the first trial model, the following features are as follows:\n",
    "    <br>\n",
    "    - `planning_area_north` (-162k per unit increase, ceteris paribus) \n",
    "    <br>\n",
    "    - `planning_area_west` (-126k per unit increase, ceteris paribus)\n",
    "    <br>\n",
    "    - `planning_area_north_east` (-91k per unit increase, ceteris paribus)\n",
    "    <br> \n",
    "    - `planning_area_east` (-79k per unit increase, ceteris paribus)\n",
    "    <br>\n",
    "    - `hdb_age` (-32k per unit increase, ceteris paribus)\n",
    "    <br>\n",
    "    - `hawker_nearest_distance` (-23k per unit increase, ceteris paribus) \n",
    "    <br>\n",
    "    - `mrt_nearest_distance` (-21k per unit increase, ceteris paribus)\n",
    "    <br> \n",
    "    - `mall_nearest_distance` (-5k per unit increase, ceteris paribus)\n",
    "</details> \n",
    "\n",
    "<details><summary> 3. What aspects of location matters to whom? In other words, what are the objective factors that determine a home's value? \n",
    "</summary> \n",
    "    - An 'ideal' location for Singaporean homebuyers usually has transport links (mrt), well-ranked primary schools, and nearby amenities such as malls and arguably hawkers.\n",
    "    <br>\n",
    "    - A 'poor' location for Singaporean homebuyers usually has transport nodes (bus-stops), and secondary schools.\n",
    "</details>\n",
    "\n",
    "<details><summary> 4. What neighborhoods seem like they might be a good investment? </summary>\n",
    "    - The top 3 ideal neighbourhoods are: Ang Mo Kio, Bedok, and Bishan (mature estates).\n",
    "    <br> \n",
    "    - Neigbourhoods to avoid include: Yishun, Woodlands, and Western Water Catchment Area (non-mature estates). This information is in line with the Ministry of National Development's efforts to increase the supply of BTO HDB flats in non-mature estates. Areas such as woodlands have also seen the development of commercial buildings in the recent years - this would boost the resale price and demand for the HDB units in the area. \n",
    "    <br>\n",
    "    - Note: Analysis is based on the assumption that he valuation of residential buildings appreciates as there are more developments in its vicinity.\n",
    "</details>\n"
   ]
  },
  {
   "cell_type": "markdown",
   "id": "690879a6-5f73-49d8-8d30-25184a71d8e9",
   "metadata": {},
   "source": [
    "### Limitations of the Project & Areas of Future Research\n",
    "1. What are things that homeowners could improve in their homes to increase the value? \n",
    "> * There are other quantitative features that could be included in the model to enhance it's accuracy. These are features such as interior design, maintenance fees, which have not been taken into consideration.\n",
    "<br> \n",
    "2. Do you feel that this model will generalize to other cities? How could you revise your model to make it more universal OR what date would you need from another city to make a comparable model? \n",
    "> * This model is unlikely to generalize to other cities. Singapore's housing market is very uniquely different from that of other countries. This is largely due to the Government's commitment to the people that they will do what is necessary to ensure affordable public housing for all Singaporeans. Home ownership for all Singaporeans in a key national policy. \n",
    "> * That saying, some might argue that this model could generalize well to housing data in China as government intervention in the housing market is prevalent there as well. While both governments enact public housing policies extensively to achieve similar aims – essentially, to provide affordable housing for its residents – there is still a significant contrast with the state of Singapore’s public housing market vis-a-vis China. Singapore's focus upholding housing policy regulations lends the local housing market an element of predictability. In contrast, the housing market in China is predicated on inadequate regulations and financed by weak state-owned banks, therefore highly volatile and susceptible to trasitory external and internal shocks. \n",
    "> * Today, evidence suggests that Singapore's property prices are continuing to grow despite a cooling off in other parts of the world. This also suggests that price trends are likely to deviate consistently from that in other countries due to systemic / structural differences. "
   ]
  }
 ],
 "metadata": {
  "kernelspec": {
   "display_name": "dsi-sg",
   "language": "python",
   "name": "dsi-sg"
  },
  "language_info": {
   "codemirror_mode": {
    "name": "ipython",
    "version": 3
   },
   "file_extension": ".py",
   "mimetype": "text/x-python",
   "name": "python",
   "nbconvert_exporter": "python",
   "pygments_lexer": "ipython3",
   "version": "3.9.13"
  }
 },
 "nbformat": 4,
 "nbformat_minor": 5
}
