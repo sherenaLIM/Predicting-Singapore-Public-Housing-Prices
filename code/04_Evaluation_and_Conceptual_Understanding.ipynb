{
 "cells": [
  {
   "cell_type": "markdown",
   "id": "2928f272-0403-4c19-81c4-b709e7f98136",
   "metadata": {},
   "source": [
    "## Project_2: Drivers of HDB Resale Price and Prediction\n",
    "- 04 Evaluation and Conceptual Understanding\n",
    "- Kaggle Challenge Submission"
   ]
  },
  {
   "cell_type": "markdown",
   "id": "ad7a1764-1c86-44d0-b91c-8aa8abd22880",
   "metadata": {},
   "source": [
    "#### Content\n",
    "> * [Problem Statement](#problem_statement) \n",
    "> * [Data Cleaning](#data_cleaning)\n",
    "> * [EDA](#eda)\n",
    "> * [Preprocessing and Modeling](#preprocessing_and_modeling)\n",
    "> * [Evaluation and Conceptual Understanding](#evaluation_and_conceptual_understanding)\n",
    "> * [Conclusion and Recommendations](#conclusion_and_recommendations)"
   ]
  },
  {
   "cell_type": "markdown",
   "id": "16d1341c-6ae5-43a0-9ab5-a52781e6cdee",
   "metadata": {},
   "source": [
    "---\n",
    "<a id='problem_statement'></a>\n",
    "## Problem Statement\n",
    "\n",
    "Over the years, Singapore has seen the puzzling rise of public housing in the resale market with million dollar price tags, supporting the theory that “decent gains” can still be acquired, especially for HDB flats bought at subsidised prices from the Government. What are the factors contributing to high upside potential for these units? \n",
    "\n",
    "Research Findings: Property value is affected by the confluence of macro and micro, demand and supply factors.  \n",
    "\n",
    "<details><summary> (1) Demand-pull inflation caused by shifts in socio-demographic micro-trends. </summary>\n",
    "- Many young couples are willing to pay a premium to acquire a resale flat to avoid delaying plans to start a family. \n",
    "- More millenials are also opting to remain single and aspire to move out of their nests before they are eligible to purchase a BTO, to alleviate the strain on relationships and their mental health. Covid-19 has likely accelerated the desire to move out for many millenials.\n",
    "- In response to these socio-demographic trends, the government is rethinking the 35 year-old age requirement for single Singaporeans. could elevate the demand for resale flats even further. \n",
    "- Based on a study conducted by the Ministry of Finance, Singaporeans' education, employment, wage outcomes have improved over the generations. Many are gainfully employed, as reflected in the high proportion of Singapore citizens in employment and the low unemployment rate.\n",
    "</details>\n",
    "<br> \n",
    "<details><summary> (2) Demand-pull inflation in the private housing market. </summary>\n",
    "- Historical data on private property housing has shown that while sales volume and prices usually dip during a crisis such as a high inflation, high interest rate environment, it has not been the case for the private housing market in Singapore. More wealthy individuals from China and Hong Kong are moving into the Singapore private property market to escape XJP's common prosperity doctrine. This will drive the prices of private condominiums even higher, making it less affordable for many middle income Singaporeans. Being priced out of the private housing market, this substantial group of consumers will turn to the next best alternative - spacious resale flats. Demand for resale flats is projected to increase even more, driving resale prices even higher. \n",
    "</details>\n",
    "<br> \n",
    "<details><summary> (3) Material cost-push inflation due to supply-chain disruptions, increasing costs of production. </summary>\n",
    "- Supply disruptions from the Russia-Ukraine war and ongoing supply chain issues caused prices of core construction materials in Singapore, such as copper, steel, concrete, cement and bricks, to inflate and material costs are projected to remain elevated in the next few quarters. \n",
    "- Costs of production has yet to be offset by increasing productivity as digitalisation of the construction workforce is not an overnight process.\n",
    "</details>\n",
    "<br>\n",
    "<details><summary> (4) Material cost-push inflation compounded by high-interest rates. </summary>\n",
    "- As FEDs are resolute in their fight against inflation, businesses suffer amidst hawkish quantitative tightening (contractionary monetary policy). High interest rates reduce the developer’s ability to service debt, as rising costs are incurred by the organization with no corresponding increase in revenues to offset while the construction is on-going.\n",
    "- These costs are likely to be passed on to home-buyers. \n",
    "</details>\n",
    "<br>\n",
    "You are part of the Research & Consultancy team in PropNext. Propnext would like to ride on the wave and increase the number of high-value sales and purchase transactions intermediated by PropNext agents. PropNext is looking to develop an in-house mobile application that is able to predict the selling price of HDB resale flats. The application would help real estate agents detect and look out for units with huge upside potential, so as to rake in higher commissions per sale. The team has to identify high-yield features that contribute to the appreciation of units and report their findings to the software development team in 2 weeks' time. The software developers will then communicate the requirements to the software engineers who would then build the application with the embedded predictive function in collaboration with data scientists. "
   ]
  },
  {
   "cell_type": "markdown",
   "id": "523d4a61-3cd4-451c-8a27-0956ae34c9aa",
   "metadata": {},
   "source": [
    "Task: Use the Singapore public housing data to create a regression model that predicts the `resale_price` of Housing Development Board (HDB) flats in Singapore."
   ]
  },
  {
   "cell_type": "markdown",
   "id": "dfc61001-3e20-4dda-a17a-788f83f3c5b6",
   "metadata": {},
   "source": [
    "---\n",
    "<a id='evaluation_and_conceptual_understanding'></a>\n",
    "## Evaluation and Conceptual Understanding"
   ]
  },
  {
   "cell_type": "markdown",
   "id": "4d1b5a35-25ca-4a0b-a248-7eab99b09607",
   "metadata": {},
   "source": [
    "*All libraries should be added here.* "
   ]
  },
  {
   "cell_type": "code",
   "execution_count": 1,
   "id": "b6a5b823-00b9-490d-a4ac-599447d5cb1e",
   "metadata": {},
   "outputs": [],
   "source": [
    "# Import correct modules using accurate aliases\n",
    "import pandas as pd\n",
    "import matplotlib.pyplot as plt\n",
    "import seaborn as sns\n",
    "import scipy as sc\n",
    "import scipy.stats as stats\n",
    "import numpy as np\n",
    "from sklearn import preprocessing, metrics\n",
    "from sklearn.preprocessing import StandardScaler\n",
    "from sklearn.linear_model import LinearRegression, Lasso, LassoCV, Ridge, RidgeCV, ElasticNet, ElasticNetCV\n",
    "from sklearn.preprocessing import PolynomialFeatures, StandardScaler\n",
    "from sklearn.model_selection import train_test_split, cross_val_score, cross_val_predict\n",
    "from datetime import datetime\n",
    "\n",
    "%matplotlib inline"
   ]
  },
  {
   "cell_type": "markdown",
   "id": "d6242d2a-a47a-47d8-be31-95e0aac919d6",
   "metadata": {},
   "source": [
    "#### *Import `train_df.csv` dataset for preprocessing & modeling.*"
   ]
  },
  {
   "cell_type": "code",
   "execution_count": 2,
   "id": "267ab3be-60c1-41d4-947d-12a9b04e5cb9",
   "metadata": {},
   "outputs": [],
   "source": [
    "# import hdb_train for further inspection\n",
    "hdb_train = pd.read_pickle('../data/train_df.csv') "
   ]
  },
  {
   "cell_type": "code",
   "execution_count": 3,
   "id": "e0ef7a33-dde3-4f31-addb-b6db177690bb",
   "metadata": {
    "scrolled": true,
    "tags": []
   },
   "outputs": [
    {
     "name": "stdout",
     "output_type": "stream",
     "text": [
      "<class 'pandas.core.frame.DataFrame'>\n",
      "RangeIndex: 150634 entries, 0 to 150633\n",
      "Data columns (total 22 columns):\n",
      " #   Column                       Non-Null Count   Dtype  \n",
      "---  ------                       --------------   -----  \n",
      " 0   resale_price                 150634 non-null  float64\n",
      " 1   floor_area_sqft              150634 non-null  float64\n",
      " 2   hdb_age                      150634 non-null  int64  \n",
      " 3   max_floor_lvl                150634 non-null  int64  \n",
      " 4   mall_nearest_distance        150634 non-null  float64\n",
      " 5   hawker_nearest_distance      150634 non-null  float64\n",
      " 6   mrt_nearest_distance         150634 non-null  float64\n",
      " 7   bus_stop_nearest_distance    150634 non-null  float64\n",
      " 8   pri_sch_nearest_distance     150634 non-null  float64\n",
      " 9   sec_sch_nearest_dist         150634 non-null  float64\n",
      " 10  flat_type_cat                150634 non-null  int8   \n",
      " 11  storey_range_cat             150634 non-null  int8   \n",
      " 12  flat_model_Apartment         150634 non-null  uint8  \n",
      " 13  flat_model_Maisonette        150634 non-null  uint8  \n",
      " 14  flat_model_Model A           150634 non-null  uint8  \n",
      " 15  flat_model_Multi Generation  150634 non-null  uint8  \n",
      " 16  flat_model_New Generation    150634 non-null  uint8  \n",
      " 17  flat_model_Special           150634 non-null  uint8  \n",
      " 18  planning_area_west           150634 non-null  uint8  \n",
      " 19  planning_area_north_east     150634 non-null  uint8  \n",
      " 20  planning_area_east           150634 non-null  uint8  \n",
      " 21  planning_area_north          150634 non-null  uint8  \n",
      "dtypes: float64(8), int64(2), int8(2), uint8(10)\n",
      "memory usage: 13.2 MB\n"
     ]
    }
   ],
   "source": [
    "hdb_train.info()"
   ]
  },
  {
   "cell_type": "markdown",
   "id": "48f89470-8c15-4eff-881a-d633adf25170",
   "metadata": {
    "tags": []
   },
   "source": [
    "### Model Preparation #1: Create Features Matrix (X) and Target Vector (y)"
   ]
  },
  {
   "cell_type": "code",
   "execution_count": 4,
   "id": "c41df8d4-6b81-4170-9d9a-b8fb7bd3d120",
   "metadata": {
    "scrolled": true,
    "tags": []
   },
   "outputs": [
    {
     "data": {
      "text/html": [
       "<div>\n",
       "<style scoped>\n",
       "    .dataframe tbody tr th:only-of-type {\n",
       "        vertical-align: middle;\n",
       "    }\n",
       "\n",
       "    .dataframe tbody tr th {\n",
       "        vertical-align: top;\n",
       "    }\n",
       "\n",
       "    .dataframe thead th {\n",
       "        text-align: right;\n",
       "    }\n",
       "</style>\n",
       "<table border=\"1\" class=\"dataframe\">\n",
       "  <thead>\n",
       "    <tr style=\"text-align: right;\">\n",
       "      <th></th>\n",
       "      <th>resale_price</th>\n",
       "      <th>floor_area_sqft</th>\n",
       "      <th>hdb_age</th>\n",
       "      <th>max_floor_lvl</th>\n",
       "      <th>mall_nearest_distance</th>\n",
       "      <th>hawker_nearest_distance</th>\n",
       "      <th>mrt_nearest_distance</th>\n",
       "      <th>bus_stop_nearest_distance</th>\n",
       "      <th>pri_sch_nearest_distance</th>\n",
       "      <th>sec_sch_nearest_dist</th>\n",
       "      <th>...</th>\n",
       "      <th>flat_model_Apartment</th>\n",
       "      <th>flat_model_Maisonette</th>\n",
       "      <th>flat_model_Model A</th>\n",
       "      <th>flat_model_Multi Generation</th>\n",
       "      <th>flat_model_New Generation</th>\n",
       "      <th>flat_model_Special</th>\n",
       "      <th>planning_area_west</th>\n",
       "      <th>planning_area_north_east</th>\n",
       "      <th>planning_area_east</th>\n",
       "      <th>planning_area_north</th>\n",
       "    </tr>\n",
       "  </thead>\n",
       "  <tbody>\n",
       "    <tr>\n",
       "      <th>count</th>\n",
       "      <td>1.506340e+05</td>\n",
       "      <td>150634.000000</td>\n",
       "      <td>150634.000000</td>\n",
       "      <td>150634.000000</td>\n",
       "      <td>150634.000000</td>\n",
       "      <td>150634.000000</td>\n",
       "      <td>150634.000000</td>\n",
       "      <td>150634.000000</td>\n",
       "      <td>150634.000000</td>\n",
       "      <td>150634.000000</td>\n",
       "      <td>...</td>\n",
       "      <td>150634.000000</td>\n",
       "      <td>150634.000000</td>\n",
       "      <td>150634.000000</td>\n",
       "      <td>150634.000000</td>\n",
       "      <td>150634.000000</td>\n",
       "      <td>150634.000000</td>\n",
       "      <td>150634.000000</td>\n",
       "      <td>150634.000000</td>\n",
       "      <td>150634.000000</td>\n",
       "      <td>150634.000000</td>\n",
       "    </tr>\n",
       "    <tr>\n",
       "      <th>mean</th>\n",
       "      <td>4.491615e+05</td>\n",
       "      <td>1046.235290</td>\n",
       "      <td>28.551536</td>\n",
       "      <td>15.139816</td>\n",
       "      <td>663.901799</td>\n",
       "      <td>1173.700148</td>\n",
       "      <td>765.007872</td>\n",
       "      <td>115.258966</td>\n",
       "      <td>395.172974</td>\n",
       "      <td>508.533220</td>\n",
       "      <td>...</td>\n",
       "      <td>0.140878</td>\n",
       "      <td>0.030936</td>\n",
       "      <td>0.368868</td>\n",
       "      <td>0.000372</td>\n",
       "      <td>0.155118</td>\n",
       "      <td>0.015813</td>\n",
       "      <td>0.240869</td>\n",
       "      <td>0.190229</td>\n",
       "      <td>0.213259</td>\n",
       "      <td>0.166622</td>\n",
       "    </tr>\n",
       "    <tr>\n",
       "      <th>std</th>\n",
       "      <td>1.433076e+05</td>\n",
       "      <td>262.674321</td>\n",
       "      <td>12.138829</td>\n",
       "      <td>6.232492</td>\n",
       "      <td>367.751216</td>\n",
       "      <td>1076.701337</td>\n",
       "      <td>429.366039</td>\n",
       "      <td>55.572855</td>\n",
       "      <td>234.760931</td>\n",
       "      <td>309.066265</td>\n",
       "      <td>...</td>\n",
       "      <td>0.347897</td>\n",
       "      <td>0.173145</td>\n",
       "      <td>0.482500</td>\n",
       "      <td>0.019278</td>\n",
       "      <td>0.362018</td>\n",
       "      <td>0.124753</td>\n",
       "      <td>0.427612</td>\n",
       "      <td>0.392483</td>\n",
       "      <td>0.409610</td>\n",
       "      <td>0.372640</td>\n",
       "    </tr>\n",
       "    <tr>\n",
       "      <th>min</th>\n",
       "      <td>1.500000e+05</td>\n",
       "      <td>333.684000</td>\n",
       "      <td>2.000000</td>\n",
       "      <td>2.000000</td>\n",
       "      <td>0.000000</td>\n",
       "      <td>1.873295</td>\n",
       "      <td>21.971410</td>\n",
       "      <td>9.001285</td>\n",
       "      <td>45.668324</td>\n",
       "      <td>38.913475</td>\n",
       "      <td>...</td>\n",
       "      <td>0.000000</td>\n",
       "      <td>0.000000</td>\n",
       "      <td>0.000000</td>\n",
       "      <td>0.000000</td>\n",
       "      <td>0.000000</td>\n",
       "      <td>0.000000</td>\n",
       "      <td>0.000000</td>\n",
       "      <td>0.000000</td>\n",
       "      <td>0.000000</td>\n",
       "      <td>0.000000</td>\n",
       "    </tr>\n",
       "    <tr>\n",
       "      <th>25%</th>\n",
       "      <td>3.470000e+05</td>\n",
       "      <td>807.300000</td>\n",
       "      <td>20.000000</td>\n",
       "      <td>12.000000</td>\n",
       "      <td>392.328485</td>\n",
       "      <td>372.132398</td>\n",
       "      <td>458.266301</td>\n",
       "      <td>75.032491</td>\n",
       "      <td>227.083164</td>\n",
       "      <td>290.285883</td>\n",
       "      <td>...</td>\n",
       "      <td>0.000000</td>\n",
       "      <td>0.000000</td>\n",
       "      <td>0.000000</td>\n",
       "      <td>0.000000</td>\n",
       "      <td>0.000000</td>\n",
       "      <td>0.000000</td>\n",
       "      <td>0.000000</td>\n",
       "      <td>0.000000</td>\n",
       "      <td>0.000000</td>\n",
       "      <td>0.000000</td>\n",
       "    </tr>\n",
       "    <tr>\n",
       "      <th>50%</th>\n",
       "      <td>4.200000e+05</td>\n",
       "      <td>1022.580000</td>\n",
       "      <td>29.000000</td>\n",
       "      <td>13.000000</td>\n",
       "      <td>602.818388</td>\n",
       "      <td>778.966980</td>\n",
       "      <td>682.621343</td>\n",
       "      <td>107.765999</td>\n",
       "      <td>348.876691</td>\n",
       "      <td>447.377670</td>\n",
       "      <td>...</td>\n",
       "      <td>0.000000</td>\n",
       "      <td>0.000000</td>\n",
       "      <td>0.000000</td>\n",
       "      <td>0.000000</td>\n",
       "      <td>0.000000</td>\n",
       "      <td>0.000000</td>\n",
       "      <td>0.000000</td>\n",
       "      <td>0.000000</td>\n",
       "      <td>0.000000</td>\n",
       "      <td>0.000000</td>\n",
       "    </tr>\n",
       "    <tr>\n",
       "      <th>75%</th>\n",
       "      <td>5.200000e+05</td>\n",
       "      <td>1205.568000</td>\n",
       "      <td>37.000000</td>\n",
       "      <td>16.000000</td>\n",
       "      <td>866.941448</td>\n",
       "      <td>1678.949229</td>\n",
       "      <td>975.734180</td>\n",
       "      <td>146.652409</td>\n",
       "      <td>502.179385</td>\n",
       "      <td>644.284099</td>\n",
       "      <td>...</td>\n",
       "      <td>0.000000</td>\n",
       "      <td>0.000000</td>\n",
       "      <td>1.000000</td>\n",
       "      <td>0.000000</td>\n",
       "      <td>0.000000</td>\n",
       "      <td>0.000000</td>\n",
       "      <td>0.000000</td>\n",
       "      <td>0.000000</td>\n",
       "      <td>0.000000</td>\n",
       "      <td>0.000000</td>\n",
       "    </tr>\n",
       "    <tr>\n",
       "      <th>max</th>\n",
       "      <td>1.258000e+06</td>\n",
       "      <td>3013.920000</td>\n",
       "      <td>55.000000</td>\n",
       "      <td>50.000000</td>\n",
       "      <td>3496.402910</td>\n",
       "      <td>4907.036414</td>\n",
       "      <td>3544.504228</td>\n",
       "      <td>443.964584</td>\n",
       "      <td>3305.841039</td>\n",
       "      <td>3638.977233</td>\n",
       "      <td>...</td>\n",
       "      <td>1.000000</td>\n",
       "      <td>1.000000</td>\n",
       "      <td>1.000000</td>\n",
       "      <td>1.000000</td>\n",
       "      <td>1.000000</td>\n",
       "      <td>1.000000</td>\n",
       "      <td>1.000000</td>\n",
       "      <td>1.000000</td>\n",
       "      <td>1.000000</td>\n",
       "      <td>1.000000</td>\n",
       "    </tr>\n",
       "  </tbody>\n",
       "</table>\n",
       "<p>8 rows × 22 columns</p>\n",
       "</div>"
      ],
      "text/plain": [
       "       resale_price  floor_area_sqft        hdb_age  max_floor_lvl  \\\n",
       "count  1.506340e+05    150634.000000  150634.000000  150634.000000   \n",
       "mean   4.491615e+05      1046.235290      28.551536      15.139816   \n",
       "std    1.433076e+05       262.674321      12.138829       6.232492   \n",
       "min    1.500000e+05       333.684000       2.000000       2.000000   \n",
       "25%    3.470000e+05       807.300000      20.000000      12.000000   \n",
       "50%    4.200000e+05      1022.580000      29.000000      13.000000   \n",
       "75%    5.200000e+05      1205.568000      37.000000      16.000000   \n",
       "max    1.258000e+06      3013.920000      55.000000      50.000000   \n",
       "\n",
       "       mall_nearest_distance  hawker_nearest_distance  mrt_nearest_distance  \\\n",
       "count          150634.000000            150634.000000         150634.000000   \n",
       "mean              663.901799              1173.700148            765.007872   \n",
       "std               367.751216              1076.701337            429.366039   \n",
       "min                 0.000000                 1.873295             21.971410   \n",
       "25%               392.328485               372.132398            458.266301   \n",
       "50%               602.818388               778.966980            682.621343   \n",
       "75%               866.941448              1678.949229            975.734180   \n",
       "max              3496.402910              4907.036414           3544.504228   \n",
       "\n",
       "       bus_stop_nearest_distance  pri_sch_nearest_distance  \\\n",
       "count              150634.000000             150634.000000   \n",
       "mean                  115.258966                395.172974   \n",
       "std                    55.572855                234.760931   \n",
       "min                     9.001285                 45.668324   \n",
       "25%                    75.032491                227.083164   \n",
       "50%                   107.765999                348.876691   \n",
       "75%                   146.652409                502.179385   \n",
       "max                   443.964584               3305.841039   \n",
       "\n",
       "       sec_sch_nearest_dist  ...  flat_model_Apartment  flat_model_Maisonette  \\\n",
       "count         150634.000000  ...         150634.000000          150634.000000   \n",
       "mean             508.533220  ...              0.140878               0.030936   \n",
       "std              309.066265  ...              0.347897               0.173145   \n",
       "min               38.913475  ...              0.000000               0.000000   \n",
       "25%              290.285883  ...              0.000000               0.000000   \n",
       "50%              447.377670  ...              0.000000               0.000000   \n",
       "75%              644.284099  ...              0.000000               0.000000   \n",
       "max             3638.977233  ...              1.000000               1.000000   \n",
       "\n",
       "       flat_model_Model A  flat_model_Multi Generation  \\\n",
       "count       150634.000000                150634.000000   \n",
       "mean             0.368868                     0.000372   \n",
       "std              0.482500                     0.019278   \n",
       "min              0.000000                     0.000000   \n",
       "25%              0.000000                     0.000000   \n",
       "50%              0.000000                     0.000000   \n",
       "75%              1.000000                     0.000000   \n",
       "max              1.000000                     1.000000   \n",
       "\n",
       "       flat_model_New Generation  flat_model_Special  planning_area_west  \\\n",
       "count              150634.000000       150634.000000       150634.000000   \n",
       "mean                    0.155118            0.015813            0.240869   \n",
       "std                     0.362018            0.124753            0.427612   \n",
       "min                     0.000000            0.000000            0.000000   \n",
       "25%                     0.000000            0.000000            0.000000   \n",
       "50%                     0.000000            0.000000            0.000000   \n",
       "75%                     0.000000            0.000000            0.000000   \n",
       "max                     1.000000            1.000000            1.000000   \n",
       "\n",
       "       planning_area_north_east  planning_area_east  planning_area_north  \n",
       "count             150634.000000       150634.000000        150634.000000  \n",
       "mean                   0.190229            0.213259             0.166622  \n",
       "std                    0.392483            0.409610             0.372640  \n",
       "min                    0.000000            0.000000             0.000000  \n",
       "25%                    0.000000            0.000000             0.000000  \n",
       "50%                    0.000000            0.000000             0.000000  \n",
       "75%                    0.000000            0.000000             0.000000  \n",
       "max                    1.000000            1.000000             1.000000  \n",
       "\n",
       "[8 rows x 22 columns]"
      ]
     },
     "execution_count": 4,
     "metadata": {},
     "output_type": "execute_result"
    }
   ],
   "source": [
    "hdb_train.describe()"
   ]
  },
  {
   "cell_type": "code",
   "execution_count": 5,
   "id": "7210cac4-75cc-460b-b024-34fb25127d18",
   "metadata": {},
   "outputs": [],
   "source": [
    "# Step 1: Assemble our X and y variables\n",
    "X = hdb_train.drop('resale_price', axis=1) \n",
    "y = hdb_train['resale_price']"
   ]
  },
  {
   "cell_type": "markdown",
   "id": "436249e2-9c9f-431c-95cf-15cf8a75572e",
   "metadata": {
    "tags": []
   },
   "source": [
    "---\n",
    "### Model Preparation #2: Train / Test Split"
   ]
  },
  {
   "cell_type": "markdown",
   "id": "f881d6f9-0a3d-4b8c-b62c-86e9b98c4b4d",
   "metadata": {},
   "source": [
    "- We always want to have a holdout set to test our model. Use the `train_test_split` function to split our `X` and `y` variables into a training set and a holdout set."
   ]
  },
  {
   "cell_type": "code",
   "execution_count": 6,
   "id": "75c9fd4f-5af8-4320-8676-f8d6524aaa13",
   "metadata": {},
   "outputs": [],
   "source": [
    "# Make a list of all numerical features, we will need them later\n",
    "# We consider categorical variables that have been label encoded to be numerical\n",
    "X_numerical = hdb_train.drop(['flat_model_Apartment', 'flat_model_Maisonette', 'flat_model_Model A',\n",
    "                       'flat_model_Multi Generation', 'flat_model_New Generation', 'flat_model_Special',\n",
    "                       'planning_area_west', 'planning_area_north_east', 'planning_area_east', \n",
    "                       'planning_area_north', 'resale_price'], axis=1).astype('float64')"
   ]
  },
  {
   "cell_type": "code",
   "execution_count": 7,
   "id": "e077d227-dda9-470d-9696-5f46a92bef22",
   "metadata": {},
   "outputs": [
    {
     "data": {
      "text/plain": [
       "Index(['floor_area_sqft', 'hdb_age', 'max_floor_lvl', 'mall_nearest_distance',\n",
       "       'hawker_nearest_distance', 'mrt_nearest_distance',\n",
       "       'bus_stop_nearest_distance', 'pri_sch_nearest_distance',\n",
       "       'sec_sch_nearest_dist', 'flat_type_cat', 'storey_range_cat'],\n",
       "      dtype='object')"
      ]
     },
     "execution_count": 7,
     "metadata": {},
     "output_type": "execute_result"
    }
   ],
   "source": [
    "# `list_numerical` will undergo feature scaling before model fitting\n",
    "list_numerical = X_numerical.columns\n",
    "list_numerical"
   ]
  },
  {
   "cell_type": "code",
   "execution_count": 8,
   "id": "f1da6c3f-c999-4999-9907-b0252581b4cd",
   "metadata": {},
   "outputs": [],
   "source": [
    "# Step 2: Train-Test Split\n",
    "# Default Train:Test ratio is 3:1\n",
    "X_train, X_test, y_train, y_test = train_test_split(X, y, random_state=42)"
   ]
  },
  {
   "cell_type": "code",
   "execution_count": 9,
   "id": "c8b6c504-8e3c-440d-96c5-4e50608b7948",
   "metadata": {
    "scrolled": true,
    "tags": []
   },
   "outputs": [
    {
     "name": "stdout",
     "output_type": "stream",
     "text": [
      "<class 'pandas.core.frame.DataFrame'>\n",
      "Int64Index: 112975 entries, 119232 to 121958\n",
      "Data columns (total 21 columns):\n",
      " #   Column                       Non-Null Count   Dtype  \n",
      "---  ------                       --------------   -----  \n",
      " 0   floor_area_sqft              112975 non-null  float64\n",
      " 1   hdb_age                      112975 non-null  int64  \n",
      " 2   max_floor_lvl                112975 non-null  int64  \n",
      " 3   mall_nearest_distance        112975 non-null  float64\n",
      " 4   hawker_nearest_distance      112975 non-null  float64\n",
      " 5   mrt_nearest_distance         112975 non-null  float64\n",
      " 6   bus_stop_nearest_distance    112975 non-null  float64\n",
      " 7   pri_sch_nearest_distance     112975 non-null  float64\n",
      " 8   sec_sch_nearest_dist         112975 non-null  float64\n",
      " 9   flat_type_cat                112975 non-null  int8   \n",
      " 10  storey_range_cat             112975 non-null  int8   \n",
      " 11  flat_model_Apartment         112975 non-null  uint8  \n",
      " 12  flat_model_Maisonette        112975 non-null  uint8  \n",
      " 13  flat_model_Model A           112975 non-null  uint8  \n",
      " 14  flat_model_Multi Generation  112975 non-null  uint8  \n",
      " 15  flat_model_New Generation    112975 non-null  uint8  \n",
      " 16  flat_model_Special           112975 non-null  uint8  \n",
      " 17  planning_area_west           112975 non-null  uint8  \n",
      " 18  planning_area_north_east     112975 non-null  uint8  \n",
      " 19  planning_area_east           112975 non-null  uint8  \n",
      " 20  planning_area_north          112975 non-null  uint8  \n",
      "dtypes: float64(7), int64(2), int8(2), uint8(10)\n",
      "memory usage: 9.9 MB\n"
     ]
    }
   ],
   "source": [
    "X_train.info()"
   ]
  },
  {
   "cell_type": "markdown",
   "id": "0fb8953d-784e-42c2-bfbd-9cef5c8c5f76",
   "metadata": {
    "tags": []
   },
   "source": [
    "---\n",
    "### Model Preparation #3 : Feature Scaling\n",
    "- Scaling is only done for Linear Regression. Tree-based models do not require scaling as it does not affect performance.\n",
    "- Since we're using LinearRegression, LassoCV, RidgeCV and ElasticNetCV, we'll want to scale our features. In the cell below, fit a StandardScaler to X_train and use it to transform both X_train and X_test.\n",
    "- ML algorithms that use gradient descent as an optimization technique require data to be scaled."
   ]
  },
  {
   "cell_type": "code",
   "execution_count": 10,
   "id": "301423a4-ded0-42bb-97c6-7a7dec4cfdf3",
   "metadata": {},
   "outputs": [],
   "source": [
    "# Step 3: Standardize, even though it is recommended to normalize data with non-Gaussian distribution instead.\n",
    "# Standardize only Numerical and Categorical features that have been label encoded.\n",
    "ss = StandardScaler()\n",
    "ss.fit(X_train[list_numerical]) \n",
    "X_train[list_numerical] = ss.transform(X_train[list_numerical])\n",
    "X_test[list_numerical] = ss.transform(X_test[list_numerical])"
   ]
  },
  {
   "cell_type": "code",
   "execution_count": 11,
   "id": "e5ed6062-d384-4b87-809f-25a645093e14",
   "metadata": {},
   "outputs": [
    {
     "data": {
      "text/html": [
       "<div>\n",
       "<style scoped>\n",
       "    .dataframe tbody tr th:only-of-type {\n",
       "        vertical-align: middle;\n",
       "    }\n",
       "\n",
       "    .dataframe tbody tr th {\n",
       "        vertical-align: top;\n",
       "    }\n",
       "\n",
       "    .dataframe thead th {\n",
       "        text-align: right;\n",
       "    }\n",
       "</style>\n",
       "<table border=\"1\" class=\"dataframe\">\n",
       "  <thead>\n",
       "    <tr style=\"text-align: right;\">\n",
       "      <th></th>\n",
       "      <th>floor_area_sqft</th>\n",
       "      <th>hdb_age</th>\n",
       "      <th>max_floor_lvl</th>\n",
       "      <th>mall_nearest_distance</th>\n",
       "      <th>hawker_nearest_distance</th>\n",
       "      <th>mrt_nearest_distance</th>\n",
       "      <th>bus_stop_nearest_distance</th>\n",
       "      <th>pri_sch_nearest_distance</th>\n",
       "      <th>sec_sch_nearest_dist</th>\n",
       "      <th>flat_type_cat</th>\n",
       "      <th>...</th>\n",
       "      <th>flat_model_Apartment</th>\n",
       "      <th>flat_model_Maisonette</th>\n",
       "      <th>flat_model_Model A</th>\n",
       "      <th>flat_model_Multi Generation</th>\n",
       "      <th>flat_model_New Generation</th>\n",
       "      <th>flat_model_Special</th>\n",
       "      <th>planning_area_west</th>\n",
       "      <th>planning_area_north_east</th>\n",
       "      <th>planning_area_east</th>\n",
       "      <th>planning_area_north</th>\n",
       "    </tr>\n",
       "  </thead>\n",
       "  <tbody>\n",
       "    <tr>\n",
       "      <th>119232</th>\n",
       "      <td>0.315498</td>\n",
       "      <td>-0.786641</td>\n",
       "      <td>0.618328</td>\n",
       "      <td>-0.895463</td>\n",
       "      <td>-0.784434</td>\n",
       "      <td>-0.782721</td>\n",
       "      <td>-0.678475</td>\n",
       "      <td>0.368935</td>\n",
       "      <td>3.285180</td>\n",
       "      <td>0.946068</td>\n",
       "      <td>...</td>\n",
       "      <td>0</td>\n",
       "      <td>0</td>\n",
       "      <td>0</td>\n",
       "      <td>0</td>\n",
       "      <td>0</td>\n",
       "      <td>0</td>\n",
       "      <td>0</td>\n",
       "      <td>0</td>\n",
       "      <td>0</td>\n",
       "      <td>0</td>\n",
       "    </tr>\n",
       "    <tr>\n",
       "      <th>77519</th>\n",
       "      <td>0.274537</td>\n",
       "      <td>0.615564</td>\n",
       "      <td>-0.503510</td>\n",
       "      <td>2.078288</td>\n",
       "      <td>-0.268051</td>\n",
       "      <td>-0.420708</td>\n",
       "      <td>-0.559372</td>\n",
       "      <td>-0.591934</td>\n",
       "      <td>-0.949260</td>\n",
       "      <td>-0.128426</td>\n",
       "      <td>...</td>\n",
       "      <td>0</td>\n",
       "      <td>0</td>\n",
       "      <td>1</td>\n",
       "      <td>0</td>\n",
       "      <td>0</td>\n",
       "      <td>0</td>\n",
       "      <td>0</td>\n",
       "      <td>0</td>\n",
       "      <td>0</td>\n",
       "      <td>0</td>\n",
       "    </tr>\n",
       "    <tr>\n",
       "      <th>102223</th>\n",
       "      <td>1.011823</td>\n",
       "      <td>0.285633</td>\n",
       "      <td>-0.503510</td>\n",
       "      <td>-0.667563</td>\n",
       "      <td>1.614315</td>\n",
       "      <td>-0.355144</td>\n",
       "      <td>1.082249</td>\n",
       "      <td>-0.997386</td>\n",
       "      <td>0.595831</td>\n",
       "      <td>0.946068</td>\n",
       "      <td>...</td>\n",
       "      <td>0</td>\n",
       "      <td>0</td>\n",
       "      <td>0</td>\n",
       "      <td>0</td>\n",
       "      <td>0</td>\n",
       "      <td>0</td>\n",
       "      <td>1</td>\n",
       "      <td>0</td>\n",
       "      <td>0</td>\n",
       "      <td>0</td>\n",
       "    </tr>\n",
       "  </tbody>\n",
       "</table>\n",
       "<p>3 rows × 21 columns</p>\n",
       "</div>"
      ],
      "text/plain": [
       "        floor_area_sqft   hdb_age  max_floor_lvl  mall_nearest_distance  \\\n",
       "119232         0.315498 -0.786641       0.618328              -0.895463   \n",
       "77519          0.274537  0.615564      -0.503510               2.078288   \n",
       "102223         1.011823  0.285633      -0.503510              -0.667563   \n",
       "\n",
       "        hawker_nearest_distance  mrt_nearest_distance  \\\n",
       "119232                -0.784434             -0.782721   \n",
       "77519                 -0.268051             -0.420708   \n",
       "102223                 1.614315             -0.355144   \n",
       "\n",
       "        bus_stop_nearest_distance  pri_sch_nearest_distance  \\\n",
       "119232                  -0.678475                  0.368935   \n",
       "77519                   -0.559372                 -0.591934   \n",
       "102223                   1.082249                 -0.997386   \n",
       "\n",
       "        sec_sch_nearest_dist  flat_type_cat  ...  flat_model_Apartment  \\\n",
       "119232              3.285180       0.946068  ...                     0   \n",
       "77519              -0.949260      -0.128426  ...                     0   \n",
       "102223              0.595831       0.946068  ...                     0   \n",
       "\n",
       "        flat_model_Maisonette  flat_model_Model A  \\\n",
       "119232                      0                   0   \n",
       "77519                       0                   1   \n",
       "102223                      0                   0   \n",
       "\n",
       "        flat_model_Multi Generation  flat_model_New Generation  \\\n",
       "119232                            0                          0   \n",
       "77519                             0                          0   \n",
       "102223                            0                          0   \n",
       "\n",
       "        flat_model_Special  planning_area_west  planning_area_north_east  \\\n",
       "119232                   0                   0                         0   \n",
       "77519                    0                   0                         0   \n",
       "102223                   0                   1                         0   \n",
       "\n",
       "        planning_area_east  planning_area_north  \n",
       "119232                   0                    0  \n",
       "77519                    0                    0  \n",
       "102223                   0                    0  \n",
       "\n",
       "[3 rows x 21 columns]"
      ]
     },
     "execution_count": 11,
     "metadata": {},
     "output_type": "execute_result"
    }
   ],
   "source": [
    "# X_train contains full set of training data after standardization of features\n",
    "X_train.head(3)"
   ]
  },
  {
   "cell_type": "code",
   "execution_count": 12,
   "id": "186a14d5-105c-47b6-948b-5e98473c6349",
   "metadata": {},
   "outputs": [
    {
     "data": {
      "text/html": [
       "<div>\n",
       "<style scoped>\n",
       "    .dataframe tbody tr th:only-of-type {\n",
       "        vertical-align: middle;\n",
       "    }\n",
       "\n",
       "    .dataframe tbody tr th {\n",
       "        vertical-align: top;\n",
       "    }\n",
       "\n",
       "    .dataframe thead th {\n",
       "        text-align: right;\n",
       "    }\n",
       "</style>\n",
       "<table border=\"1\" class=\"dataframe\">\n",
       "  <thead>\n",
       "    <tr style=\"text-align: right;\">\n",
       "      <th></th>\n",
       "      <th>floor_area_sqft</th>\n",
       "      <th>hdb_age</th>\n",
       "      <th>max_floor_lvl</th>\n",
       "      <th>mall_nearest_distance</th>\n",
       "      <th>hawker_nearest_distance</th>\n",
       "      <th>mrt_nearest_distance</th>\n",
       "      <th>bus_stop_nearest_distance</th>\n",
       "      <th>pri_sch_nearest_distance</th>\n",
       "      <th>sec_sch_nearest_dist</th>\n",
       "      <th>flat_type_cat</th>\n",
       "      <th>...</th>\n",
       "      <th>flat_model_Apartment</th>\n",
       "      <th>flat_model_Maisonette</th>\n",
       "      <th>flat_model_Model A</th>\n",
       "      <th>flat_model_Multi Generation</th>\n",
       "      <th>flat_model_New Generation</th>\n",
       "      <th>flat_model_Special</th>\n",
       "      <th>planning_area_west</th>\n",
       "      <th>planning_area_north_east</th>\n",
       "      <th>planning_area_east</th>\n",
       "      <th>planning_area_north</th>\n",
       "    </tr>\n",
       "  </thead>\n",
       "  <tbody>\n",
       "    <tr>\n",
       "      <th>107690</th>\n",
       "      <td>-0.298907</td>\n",
       "      <td>-0.621675</td>\n",
       "      <td>-0.022723</td>\n",
       "      <td>-0.789039</td>\n",
       "      <td>1.366353</td>\n",
       "      <td>-1.124714</td>\n",
       "      <td>-1.009230</td>\n",
       "      <td>-1.131434</td>\n",
       "      <td>-0.441437</td>\n",
       "      <td>-0.128426</td>\n",
       "      <td>...</td>\n",
       "      <td>0</td>\n",
       "      <td>0</td>\n",
       "      <td>1</td>\n",
       "      <td>0</td>\n",
       "      <td>0</td>\n",
       "      <td>0</td>\n",
       "      <td>0</td>\n",
       "      <td>1</td>\n",
       "      <td>0</td>\n",
       "      <td>0</td>\n",
       "    </tr>\n",
       "    <tr>\n",
       "      <th>100411</th>\n",
       "      <td>1.011823</td>\n",
       "      <td>-0.539193</td>\n",
       "      <td>0.137540</td>\n",
       "      <td>-0.385994</td>\n",
       "      <td>1.013774</td>\n",
       "      <td>-0.606448</td>\n",
       "      <td>0.191504</td>\n",
       "      <td>-0.949750</td>\n",
       "      <td>-0.743659</td>\n",
       "      <td>0.946068</td>\n",
       "      <td>...</td>\n",
       "      <td>0</td>\n",
       "      <td>0</td>\n",
       "      <td>0</td>\n",
       "      <td>0</td>\n",
       "      <td>0</td>\n",
       "      <td>0</td>\n",
       "      <td>0</td>\n",
       "      <td>1</td>\n",
       "      <td>0</td>\n",
       "      <td>0</td>\n",
       "    </tr>\n",
       "    <tr>\n",
       "      <th>23295</th>\n",
       "      <td>1.953910</td>\n",
       "      <td>-0.044297</td>\n",
       "      <td>-0.343248</td>\n",
       "      <td>0.248898</td>\n",
       "      <td>-0.865382</td>\n",
       "      <td>-1.182067</td>\n",
       "      <td>-0.659263</td>\n",
       "      <td>-0.906196</td>\n",
       "      <td>0.290512</td>\n",
       "      <td>2.020562</td>\n",
       "      <td>...</td>\n",
       "      <td>1</td>\n",
       "      <td>0</td>\n",
       "      <td>0</td>\n",
       "      <td>0</td>\n",
       "      <td>0</td>\n",
       "      <td>0</td>\n",
       "      <td>0</td>\n",
       "      <td>0</td>\n",
       "      <td>0</td>\n",
       "      <td>0</td>\n",
       "    </tr>\n",
       "  </tbody>\n",
       "</table>\n",
       "<p>3 rows × 21 columns</p>\n",
       "</div>"
      ],
      "text/plain": [
       "        floor_area_sqft   hdb_age  max_floor_lvl  mall_nearest_distance  \\\n",
       "107690        -0.298907 -0.621675      -0.022723              -0.789039   \n",
       "100411         1.011823 -0.539193       0.137540              -0.385994   \n",
       "23295          1.953910 -0.044297      -0.343248               0.248898   \n",
       "\n",
       "        hawker_nearest_distance  mrt_nearest_distance  \\\n",
       "107690                 1.366353             -1.124714   \n",
       "100411                 1.013774             -0.606448   \n",
       "23295                 -0.865382             -1.182067   \n",
       "\n",
       "        bus_stop_nearest_distance  pri_sch_nearest_distance  \\\n",
       "107690                  -1.009230                 -1.131434   \n",
       "100411                   0.191504                 -0.949750   \n",
       "23295                   -0.659263                 -0.906196   \n",
       "\n",
       "        sec_sch_nearest_dist  flat_type_cat  ...  flat_model_Apartment  \\\n",
       "107690             -0.441437      -0.128426  ...                     0   \n",
       "100411             -0.743659       0.946068  ...                     0   \n",
       "23295               0.290512       2.020562  ...                     1   \n",
       "\n",
       "        flat_model_Maisonette  flat_model_Model A  \\\n",
       "107690                      0                   1   \n",
       "100411                      0                   0   \n",
       "23295                       0                   0   \n",
       "\n",
       "        flat_model_Multi Generation  flat_model_New Generation  \\\n",
       "107690                            0                          0   \n",
       "100411                            0                          0   \n",
       "23295                             0                          0   \n",
       "\n",
       "        flat_model_Special  planning_area_west  planning_area_north_east  \\\n",
       "107690                   0                   0                         1   \n",
       "100411                   0                   0                         1   \n",
       "23295                    0                   0                         0   \n",
       "\n",
       "        planning_area_east  planning_area_north  \n",
       "107690                   0                    0  \n",
       "100411                   0                    0  \n",
       "23295                    0                    0  \n",
       "\n",
       "[3 rows x 21 columns]"
      ]
     },
     "execution_count": 12,
     "metadata": {},
     "output_type": "execute_result"
    }
   ],
   "source": [
    "# X_test contains full set of testing data after standardization of features\n",
    "X_test.head(3) "
   ]
  },
  {
   "cell_type": "markdown",
   "id": "cee42a31-27f0-4441-9c94-57bd423098f9",
   "metadata": {
    "tags": []
   },
   "source": [
    "---\n",
    "### Model Preparation #4 : Outlier Detection to Ensure Normal Distribution of Target Variable"
   ]
  },
  {
   "cell_type": "code",
   "execution_count": 13,
   "id": "a69b7d00-d7bb-46dc-910b-ca69bad7b456",
   "metadata": {},
   "outputs": [],
   "source": [
    "# Not neccessary for linear regression"
   ]
  },
  {
   "cell_type": "markdown",
   "id": "480f34fb-c31f-48a5-88c3-f5514a29c317",
   "metadata": {
    "tags": []
   },
   "source": [
    "---\n",
    "### Model Preparation #5: Instantiate our Models\n",
    "\n",
    "- We'll be evaluating `LinearRegression`, `LassoCV`, `RidgeCV` and `ElasticNetCV`, so we'll need to create instances of all four models."
   ]
  },
  {
   "cell_type": "code",
   "execution_count": 14,
   "id": "1a03c41b-b7c4-48af-9f7f-fd362b68f03c",
   "metadata": {
    "tags": []
   },
   "outputs": [],
   "source": [
    "# Instantiate Linear Regression Model\n",
    "lr = LinearRegression()"
   ]
  },
  {
   "cell_type": "code",
   "execution_count": 15,
   "id": "cdf2c20f-f4ac-467f-96aa-6d7678c89b7d",
   "metadata": {},
   "outputs": [],
   "source": [
    "# Instantiate LassoCV Model with default 5 fold cross-validation\n",
    "lasso_cv = LassoCV(cv=5, random_state=1, max_iter=10000) "
   ]
  },
  {
   "cell_type": "code",
   "execution_count": 16,
   "id": "162d8a4f-92a8-4860-85e2-066bdb4cf9d1",
   "metadata": {},
   "outputs": [],
   "source": [
    "# Instantiate RidgeCV Model with default 5 fold cross-validation\n",
    "ridge_cv = RidgeCV(cv=5)"
   ]
  },
  {
   "cell_type": "code",
   "execution_count": 17,
   "id": "aca86524-57ba-4043-b81c-19872c75d321",
   "metadata": {},
   "outputs": [],
   "source": [
    "# Instantiate ElasticNetCV Model with default 5 fold cross-validation\n",
    "elnet_cv = ElasticNetCV(cv=5, random_state=1, max_iter=10000)"
   ]
  },
  {
   "cell_type": "markdown",
   "id": "5af2c6e9-8481-4279-a6ea-7ba79889dd8e",
   "metadata": {
    "tags": []
   },
   "source": [
    "---\n",
    "### Model Fitting and Evaluation\n",
    "- Fit the model to the training data, and evaluate the training and test scores in the next segment."
   ]
  },
  {
   "cell_type": "code",
   "execution_count": 18,
   "id": "b25a2709-93a8-4994-933c-dd6372755201",
   "metadata": {
    "tags": []
   },
   "outputs": [
    {
     "data": {
      "text/html": [
       "<style>#sk-container-id-1 {color: black;background-color: white;}#sk-container-id-1 pre{padding: 0;}#sk-container-id-1 div.sk-toggleable {background-color: white;}#sk-container-id-1 label.sk-toggleable__label {cursor: pointer;display: block;width: 100%;margin-bottom: 0;padding: 0.3em;box-sizing: border-box;text-align: center;}#sk-container-id-1 label.sk-toggleable__label-arrow:before {content: \"▸\";float: left;margin-right: 0.25em;color: #696969;}#sk-container-id-1 label.sk-toggleable__label-arrow:hover:before {color: black;}#sk-container-id-1 div.sk-estimator:hover label.sk-toggleable__label-arrow:before {color: black;}#sk-container-id-1 div.sk-toggleable__content {max-height: 0;max-width: 0;overflow: hidden;text-align: left;background-color: #f0f8ff;}#sk-container-id-1 div.sk-toggleable__content pre {margin: 0.2em;color: black;border-radius: 0.25em;background-color: #f0f8ff;}#sk-container-id-1 input.sk-toggleable__control:checked~div.sk-toggleable__content {max-height: 200px;max-width: 100%;overflow: auto;}#sk-container-id-1 input.sk-toggleable__control:checked~label.sk-toggleable__label-arrow:before {content: \"▾\";}#sk-container-id-1 div.sk-estimator input.sk-toggleable__control:checked~label.sk-toggleable__label {background-color: #d4ebff;}#sk-container-id-1 div.sk-label input.sk-toggleable__control:checked~label.sk-toggleable__label {background-color: #d4ebff;}#sk-container-id-1 input.sk-hidden--visually {border: 0;clip: rect(1px 1px 1px 1px);clip: rect(1px, 1px, 1px, 1px);height: 1px;margin: -1px;overflow: hidden;padding: 0;position: absolute;width: 1px;}#sk-container-id-1 div.sk-estimator {font-family: monospace;background-color: #f0f8ff;border: 1px dotted black;border-radius: 0.25em;box-sizing: border-box;margin-bottom: 0.5em;}#sk-container-id-1 div.sk-estimator:hover {background-color: #d4ebff;}#sk-container-id-1 div.sk-parallel-item::after {content: \"\";width: 100%;border-bottom: 1px solid gray;flex-grow: 1;}#sk-container-id-1 div.sk-label:hover label.sk-toggleable__label {background-color: #d4ebff;}#sk-container-id-1 div.sk-serial::before {content: \"\";position: absolute;border-left: 1px solid gray;box-sizing: border-box;top: 0;bottom: 0;left: 50%;z-index: 0;}#sk-container-id-1 div.sk-serial {display: flex;flex-direction: column;align-items: center;background-color: white;padding-right: 0.2em;padding-left: 0.2em;position: relative;}#sk-container-id-1 div.sk-item {position: relative;z-index: 1;}#sk-container-id-1 div.sk-parallel {display: flex;align-items: stretch;justify-content: center;background-color: white;position: relative;}#sk-container-id-1 div.sk-item::before, #sk-container-id-1 div.sk-parallel-item::before {content: \"\";position: absolute;border-left: 1px solid gray;box-sizing: border-box;top: 0;bottom: 0;left: 50%;z-index: -1;}#sk-container-id-1 div.sk-parallel-item {display: flex;flex-direction: column;z-index: 1;position: relative;background-color: white;}#sk-container-id-1 div.sk-parallel-item:first-child::after {align-self: flex-end;width: 50%;}#sk-container-id-1 div.sk-parallel-item:last-child::after {align-self: flex-start;width: 50%;}#sk-container-id-1 div.sk-parallel-item:only-child::after {width: 0;}#sk-container-id-1 div.sk-dashed-wrapped {border: 1px dashed gray;margin: 0 0.4em 0.5em 0.4em;box-sizing: border-box;padding-bottom: 0.4em;background-color: white;}#sk-container-id-1 div.sk-label label {font-family: monospace;font-weight: bold;display: inline-block;line-height: 1.2em;}#sk-container-id-1 div.sk-label-container {text-align: center;}#sk-container-id-1 div.sk-container {/* jupyter's `normalize.less` sets `[hidden] { display: none; }` but bootstrap.min.css set `[hidden] { display: none !important; }` so we also need the `!important` here to be able to override the default hidden behavior on the sphinx rendered scikit-learn.org. See: https://github.com/scikit-learn/scikit-learn/issues/21755 */display: inline-block !important;position: relative;}#sk-container-id-1 div.sk-text-repr-fallback {display: none;}</style><div id=\"sk-container-id-1\" class=\"sk-top-container\"><div class=\"sk-text-repr-fallback\"><pre>LinearRegression()</pre><b>In a Jupyter environment, please rerun this cell to show the HTML representation or trust the notebook. <br />On GitHub, the HTML representation is unable to render, please try loading this page with nbviewer.org.</b></div><div class=\"sk-container\" hidden><div class=\"sk-item\"><div class=\"sk-estimator sk-toggleable\"><input class=\"sk-toggleable__control sk-hidden--visually\" id=\"sk-estimator-id-1\" type=\"checkbox\" checked><label for=\"sk-estimator-id-1\" class=\"sk-toggleable__label sk-toggleable__label-arrow\">LinearRegression</label><div class=\"sk-toggleable__content\"><pre>LinearRegression()</pre></div></div></div></div></div>"
      ],
      "text/plain": [
       "LinearRegression()"
      ]
     },
     "execution_count": 18,
     "metadata": {},
     "output_type": "execute_result"
    }
   ],
   "source": [
    "# Fit lr model\n",
    "lr.fit(X_train, y_train) "
   ]
  },
  {
   "cell_type": "code",
   "execution_count": 19,
   "id": "1bc12dc2-7361-4140-8e7d-9910e73aa902",
   "metadata": {},
   "outputs": [
    {
     "data": {
      "text/html": [
       "<style>#sk-container-id-2 {color: black;background-color: white;}#sk-container-id-2 pre{padding: 0;}#sk-container-id-2 div.sk-toggleable {background-color: white;}#sk-container-id-2 label.sk-toggleable__label {cursor: pointer;display: block;width: 100%;margin-bottom: 0;padding: 0.3em;box-sizing: border-box;text-align: center;}#sk-container-id-2 label.sk-toggleable__label-arrow:before {content: \"▸\";float: left;margin-right: 0.25em;color: #696969;}#sk-container-id-2 label.sk-toggleable__label-arrow:hover:before {color: black;}#sk-container-id-2 div.sk-estimator:hover label.sk-toggleable__label-arrow:before {color: black;}#sk-container-id-2 div.sk-toggleable__content {max-height: 0;max-width: 0;overflow: hidden;text-align: left;background-color: #f0f8ff;}#sk-container-id-2 div.sk-toggleable__content pre {margin: 0.2em;color: black;border-radius: 0.25em;background-color: #f0f8ff;}#sk-container-id-2 input.sk-toggleable__control:checked~div.sk-toggleable__content {max-height: 200px;max-width: 100%;overflow: auto;}#sk-container-id-2 input.sk-toggleable__control:checked~label.sk-toggleable__label-arrow:before {content: \"▾\";}#sk-container-id-2 div.sk-estimator input.sk-toggleable__control:checked~label.sk-toggleable__label {background-color: #d4ebff;}#sk-container-id-2 div.sk-label input.sk-toggleable__control:checked~label.sk-toggleable__label {background-color: #d4ebff;}#sk-container-id-2 input.sk-hidden--visually {border: 0;clip: rect(1px 1px 1px 1px);clip: rect(1px, 1px, 1px, 1px);height: 1px;margin: -1px;overflow: hidden;padding: 0;position: absolute;width: 1px;}#sk-container-id-2 div.sk-estimator {font-family: monospace;background-color: #f0f8ff;border: 1px dotted black;border-radius: 0.25em;box-sizing: border-box;margin-bottom: 0.5em;}#sk-container-id-2 div.sk-estimator:hover {background-color: #d4ebff;}#sk-container-id-2 div.sk-parallel-item::after {content: \"\";width: 100%;border-bottom: 1px solid gray;flex-grow: 1;}#sk-container-id-2 div.sk-label:hover label.sk-toggleable__label {background-color: #d4ebff;}#sk-container-id-2 div.sk-serial::before {content: \"\";position: absolute;border-left: 1px solid gray;box-sizing: border-box;top: 0;bottom: 0;left: 50%;z-index: 0;}#sk-container-id-2 div.sk-serial {display: flex;flex-direction: column;align-items: center;background-color: white;padding-right: 0.2em;padding-left: 0.2em;position: relative;}#sk-container-id-2 div.sk-item {position: relative;z-index: 1;}#sk-container-id-2 div.sk-parallel {display: flex;align-items: stretch;justify-content: center;background-color: white;position: relative;}#sk-container-id-2 div.sk-item::before, #sk-container-id-2 div.sk-parallel-item::before {content: \"\";position: absolute;border-left: 1px solid gray;box-sizing: border-box;top: 0;bottom: 0;left: 50%;z-index: -1;}#sk-container-id-2 div.sk-parallel-item {display: flex;flex-direction: column;z-index: 1;position: relative;background-color: white;}#sk-container-id-2 div.sk-parallel-item:first-child::after {align-self: flex-end;width: 50%;}#sk-container-id-2 div.sk-parallel-item:last-child::after {align-self: flex-start;width: 50%;}#sk-container-id-2 div.sk-parallel-item:only-child::after {width: 0;}#sk-container-id-2 div.sk-dashed-wrapped {border: 1px dashed gray;margin: 0 0.4em 0.5em 0.4em;box-sizing: border-box;padding-bottom: 0.4em;background-color: white;}#sk-container-id-2 div.sk-label label {font-family: monospace;font-weight: bold;display: inline-block;line-height: 1.2em;}#sk-container-id-2 div.sk-label-container {text-align: center;}#sk-container-id-2 div.sk-container {/* jupyter's `normalize.less` sets `[hidden] { display: none; }` but bootstrap.min.css set `[hidden] { display: none !important; }` so we also need the `!important` here to be able to override the default hidden behavior on the sphinx rendered scikit-learn.org. See: https://github.com/scikit-learn/scikit-learn/issues/21755 */display: inline-block !important;position: relative;}#sk-container-id-2 div.sk-text-repr-fallback {display: none;}</style><div id=\"sk-container-id-2\" class=\"sk-top-container\"><div class=\"sk-text-repr-fallback\"><pre>LassoCV(cv=5, max_iter=10000, random_state=1)</pre><b>In a Jupyter environment, please rerun this cell to show the HTML representation or trust the notebook. <br />On GitHub, the HTML representation is unable to render, please try loading this page with nbviewer.org.</b></div><div class=\"sk-container\" hidden><div class=\"sk-item\"><div class=\"sk-estimator sk-toggleable\"><input class=\"sk-toggleable__control sk-hidden--visually\" id=\"sk-estimator-id-2\" type=\"checkbox\" checked><label for=\"sk-estimator-id-2\" class=\"sk-toggleable__label sk-toggleable__label-arrow\">LassoCV</label><div class=\"sk-toggleable__content\"><pre>LassoCV(cv=5, max_iter=10000, random_state=1)</pre></div></div></div></div></div>"
      ],
      "text/plain": [
       "LassoCV(cv=5, max_iter=10000, random_state=1)"
      ]
     },
     "execution_count": 19,
     "metadata": {},
     "output_type": "execute_result"
    }
   ],
   "source": [
    "# Fit lassoCV model\n",
    "lasso_cv.fit(X_train, y_train)"
   ]
  },
  {
   "cell_type": "code",
   "execution_count": 20,
   "id": "3b1f2182-b352-485e-a825-0b23944ac94a",
   "metadata": {},
   "outputs": [
    {
     "data": {
      "text/plain": [
       "94.9012759674535"
      ]
     },
     "execution_count": 20,
     "metadata": {},
     "output_type": "execute_result"
    }
   ],
   "source": [
    "# Get the best alpha value\n",
    "lasso_cv.alpha_"
   ]
  },
  {
   "cell_type": "code",
   "execution_count": 21,
   "id": "a30018f0-3832-46b6-ac3c-8a4bf60a5f06",
   "metadata": {},
   "outputs": [
    {
     "data": {
      "text/html": [
       "<style>#sk-container-id-3 {color: black;background-color: white;}#sk-container-id-3 pre{padding: 0;}#sk-container-id-3 div.sk-toggleable {background-color: white;}#sk-container-id-3 label.sk-toggleable__label {cursor: pointer;display: block;width: 100%;margin-bottom: 0;padding: 0.3em;box-sizing: border-box;text-align: center;}#sk-container-id-3 label.sk-toggleable__label-arrow:before {content: \"▸\";float: left;margin-right: 0.25em;color: #696969;}#sk-container-id-3 label.sk-toggleable__label-arrow:hover:before {color: black;}#sk-container-id-3 div.sk-estimator:hover label.sk-toggleable__label-arrow:before {color: black;}#sk-container-id-3 div.sk-toggleable__content {max-height: 0;max-width: 0;overflow: hidden;text-align: left;background-color: #f0f8ff;}#sk-container-id-3 div.sk-toggleable__content pre {margin: 0.2em;color: black;border-radius: 0.25em;background-color: #f0f8ff;}#sk-container-id-3 input.sk-toggleable__control:checked~div.sk-toggleable__content {max-height: 200px;max-width: 100%;overflow: auto;}#sk-container-id-3 input.sk-toggleable__control:checked~label.sk-toggleable__label-arrow:before {content: \"▾\";}#sk-container-id-3 div.sk-estimator input.sk-toggleable__control:checked~label.sk-toggleable__label {background-color: #d4ebff;}#sk-container-id-3 div.sk-label input.sk-toggleable__control:checked~label.sk-toggleable__label {background-color: #d4ebff;}#sk-container-id-3 input.sk-hidden--visually {border: 0;clip: rect(1px 1px 1px 1px);clip: rect(1px, 1px, 1px, 1px);height: 1px;margin: -1px;overflow: hidden;padding: 0;position: absolute;width: 1px;}#sk-container-id-3 div.sk-estimator {font-family: monospace;background-color: #f0f8ff;border: 1px dotted black;border-radius: 0.25em;box-sizing: border-box;margin-bottom: 0.5em;}#sk-container-id-3 div.sk-estimator:hover {background-color: #d4ebff;}#sk-container-id-3 div.sk-parallel-item::after {content: \"\";width: 100%;border-bottom: 1px solid gray;flex-grow: 1;}#sk-container-id-3 div.sk-label:hover label.sk-toggleable__label {background-color: #d4ebff;}#sk-container-id-3 div.sk-serial::before {content: \"\";position: absolute;border-left: 1px solid gray;box-sizing: border-box;top: 0;bottom: 0;left: 50%;z-index: 0;}#sk-container-id-3 div.sk-serial {display: flex;flex-direction: column;align-items: center;background-color: white;padding-right: 0.2em;padding-left: 0.2em;position: relative;}#sk-container-id-3 div.sk-item {position: relative;z-index: 1;}#sk-container-id-3 div.sk-parallel {display: flex;align-items: stretch;justify-content: center;background-color: white;position: relative;}#sk-container-id-3 div.sk-item::before, #sk-container-id-3 div.sk-parallel-item::before {content: \"\";position: absolute;border-left: 1px solid gray;box-sizing: border-box;top: 0;bottom: 0;left: 50%;z-index: -1;}#sk-container-id-3 div.sk-parallel-item {display: flex;flex-direction: column;z-index: 1;position: relative;background-color: white;}#sk-container-id-3 div.sk-parallel-item:first-child::after {align-self: flex-end;width: 50%;}#sk-container-id-3 div.sk-parallel-item:last-child::after {align-self: flex-start;width: 50%;}#sk-container-id-3 div.sk-parallel-item:only-child::after {width: 0;}#sk-container-id-3 div.sk-dashed-wrapped {border: 1px dashed gray;margin: 0 0.4em 0.5em 0.4em;box-sizing: border-box;padding-bottom: 0.4em;background-color: white;}#sk-container-id-3 div.sk-label label {font-family: monospace;font-weight: bold;display: inline-block;line-height: 1.2em;}#sk-container-id-3 div.sk-label-container {text-align: center;}#sk-container-id-3 div.sk-container {/* jupyter's `normalize.less` sets `[hidden] { display: none; }` but bootstrap.min.css set `[hidden] { display: none !important; }` so we also need the `!important` here to be able to override the default hidden behavior on the sphinx rendered scikit-learn.org. See: https://github.com/scikit-learn/scikit-learn/issues/21755 */display: inline-block !important;position: relative;}#sk-container-id-3 div.sk-text-repr-fallback {display: none;}</style><div id=\"sk-container-id-3\" class=\"sk-top-container\"><div class=\"sk-text-repr-fallback\"><pre>RidgeCV(cv=5)</pre><b>In a Jupyter environment, please rerun this cell to show the HTML representation or trust the notebook. <br />On GitHub, the HTML representation is unable to render, please try loading this page with nbviewer.org.</b></div><div class=\"sk-container\" hidden><div class=\"sk-item\"><div class=\"sk-estimator sk-toggleable\"><input class=\"sk-toggleable__control sk-hidden--visually\" id=\"sk-estimator-id-3\" type=\"checkbox\" checked><label for=\"sk-estimator-id-3\" class=\"sk-toggleable__label sk-toggleable__label-arrow\">RidgeCV</label><div class=\"sk-toggleable__content\"><pre>RidgeCV(cv=5)</pre></div></div></div></div></div>"
      ],
      "text/plain": [
       "RidgeCV(cv=5)"
      ]
     },
     "execution_count": 21,
     "metadata": {},
     "output_type": "execute_result"
    }
   ],
   "source": [
    "# Fit ridgeCV model\n",
    "ridge_cv.fit(X_train, y_train)"
   ]
  },
  {
   "cell_type": "code",
   "execution_count": 22,
   "id": "1a82871b-89dd-4d21-9ee2-2938e9d53e2c",
   "metadata": {},
   "outputs": [
    {
     "data": {
      "text/plain": [
       "0.1"
      ]
     },
     "execution_count": 22,
     "metadata": {},
     "output_type": "execute_result"
    }
   ],
   "source": [
    "# Get the best alpha value\n",
    "ridge_cv.alpha_"
   ]
  },
  {
   "cell_type": "code",
   "execution_count": 23,
   "id": "ed57a839-2b26-4fd0-9a42-25870ec44dff",
   "metadata": {},
   "outputs": [
    {
     "data": {
      "text/html": [
       "<style>#sk-container-id-4 {color: black;background-color: white;}#sk-container-id-4 pre{padding: 0;}#sk-container-id-4 div.sk-toggleable {background-color: white;}#sk-container-id-4 label.sk-toggleable__label {cursor: pointer;display: block;width: 100%;margin-bottom: 0;padding: 0.3em;box-sizing: border-box;text-align: center;}#sk-container-id-4 label.sk-toggleable__label-arrow:before {content: \"▸\";float: left;margin-right: 0.25em;color: #696969;}#sk-container-id-4 label.sk-toggleable__label-arrow:hover:before {color: black;}#sk-container-id-4 div.sk-estimator:hover label.sk-toggleable__label-arrow:before {color: black;}#sk-container-id-4 div.sk-toggleable__content {max-height: 0;max-width: 0;overflow: hidden;text-align: left;background-color: #f0f8ff;}#sk-container-id-4 div.sk-toggleable__content pre {margin: 0.2em;color: black;border-radius: 0.25em;background-color: #f0f8ff;}#sk-container-id-4 input.sk-toggleable__control:checked~div.sk-toggleable__content {max-height: 200px;max-width: 100%;overflow: auto;}#sk-container-id-4 input.sk-toggleable__control:checked~label.sk-toggleable__label-arrow:before {content: \"▾\";}#sk-container-id-4 div.sk-estimator input.sk-toggleable__control:checked~label.sk-toggleable__label {background-color: #d4ebff;}#sk-container-id-4 div.sk-label input.sk-toggleable__control:checked~label.sk-toggleable__label {background-color: #d4ebff;}#sk-container-id-4 input.sk-hidden--visually {border: 0;clip: rect(1px 1px 1px 1px);clip: rect(1px, 1px, 1px, 1px);height: 1px;margin: -1px;overflow: hidden;padding: 0;position: absolute;width: 1px;}#sk-container-id-4 div.sk-estimator {font-family: monospace;background-color: #f0f8ff;border: 1px dotted black;border-radius: 0.25em;box-sizing: border-box;margin-bottom: 0.5em;}#sk-container-id-4 div.sk-estimator:hover {background-color: #d4ebff;}#sk-container-id-4 div.sk-parallel-item::after {content: \"\";width: 100%;border-bottom: 1px solid gray;flex-grow: 1;}#sk-container-id-4 div.sk-label:hover label.sk-toggleable__label {background-color: #d4ebff;}#sk-container-id-4 div.sk-serial::before {content: \"\";position: absolute;border-left: 1px solid gray;box-sizing: border-box;top: 0;bottom: 0;left: 50%;z-index: 0;}#sk-container-id-4 div.sk-serial {display: flex;flex-direction: column;align-items: center;background-color: white;padding-right: 0.2em;padding-left: 0.2em;position: relative;}#sk-container-id-4 div.sk-item {position: relative;z-index: 1;}#sk-container-id-4 div.sk-parallel {display: flex;align-items: stretch;justify-content: center;background-color: white;position: relative;}#sk-container-id-4 div.sk-item::before, #sk-container-id-4 div.sk-parallel-item::before {content: \"\";position: absolute;border-left: 1px solid gray;box-sizing: border-box;top: 0;bottom: 0;left: 50%;z-index: -1;}#sk-container-id-4 div.sk-parallel-item {display: flex;flex-direction: column;z-index: 1;position: relative;background-color: white;}#sk-container-id-4 div.sk-parallel-item:first-child::after {align-self: flex-end;width: 50%;}#sk-container-id-4 div.sk-parallel-item:last-child::after {align-self: flex-start;width: 50%;}#sk-container-id-4 div.sk-parallel-item:only-child::after {width: 0;}#sk-container-id-4 div.sk-dashed-wrapped {border: 1px dashed gray;margin: 0 0.4em 0.5em 0.4em;box-sizing: border-box;padding-bottom: 0.4em;background-color: white;}#sk-container-id-4 div.sk-label label {font-family: monospace;font-weight: bold;display: inline-block;line-height: 1.2em;}#sk-container-id-4 div.sk-label-container {text-align: center;}#sk-container-id-4 div.sk-container {/* jupyter's `normalize.less` sets `[hidden] { display: none; }` but bootstrap.min.css set `[hidden] { display: none !important; }` so we also need the `!important` here to be able to override the default hidden behavior on the sphinx rendered scikit-learn.org. See: https://github.com/scikit-learn/scikit-learn/issues/21755 */display: inline-block !important;position: relative;}#sk-container-id-4 div.sk-text-repr-fallback {display: none;}</style><div id=\"sk-container-id-4\" class=\"sk-top-container\"><div class=\"sk-text-repr-fallback\"><pre>ElasticNetCV(cv=5, max_iter=10000, random_state=1)</pre><b>In a Jupyter environment, please rerun this cell to show the HTML representation or trust the notebook. <br />On GitHub, the HTML representation is unable to render, please try loading this page with nbviewer.org.</b></div><div class=\"sk-container\" hidden><div class=\"sk-item\"><div class=\"sk-estimator sk-toggleable\"><input class=\"sk-toggleable__control sk-hidden--visually\" id=\"sk-estimator-id-4\" type=\"checkbox\" checked><label for=\"sk-estimator-id-4\" class=\"sk-toggleable__label sk-toggleable__label-arrow\">ElasticNetCV</label><div class=\"sk-toggleable__content\"><pre>ElasticNetCV(cv=5, max_iter=10000, random_state=1)</pre></div></div></div></div></div>"
      ],
      "text/plain": [
       "ElasticNetCV(cv=5, max_iter=10000, random_state=1)"
      ]
     },
     "execution_count": 23,
     "metadata": {},
     "output_type": "execute_result"
    }
   ],
   "source": [
    "# Fit elasticnetCV model\n",
    "elnet_cv.fit(X_train, y_train)"
   ]
  },
  {
   "cell_type": "code",
   "execution_count": 24,
   "id": "ef8f51cf-1157-41bd-81b9-cfe52bcf4d2f",
   "metadata": {},
   "outputs": [
    {
     "data": {
      "text/plain": [
       "189.80255193490703"
      ]
     },
     "execution_count": 24,
     "metadata": {},
     "output_type": "execute_result"
    }
   ],
   "source": [
    "# Get the best alpha value\n",
    "elnet_cv.alpha_"
   ]
  },
  {
   "cell_type": "markdown",
   "id": "68f68cfe-8a07-41b2-91ff-8ea22caea80f",
   "metadata": {
    "tags": []
   },
   "source": [
    "*Use `cross_val_score()` to evaluate all four models.*"
   ]
  },
  {
   "cell_type": "code",
   "execution_count": 25,
   "id": "240e5067-4117-4643-ba6b-80a8758baca6",
   "metadata": {
    "tags": []
   },
   "outputs": [
    {
     "name": "stdout",
     "output_type": "stream",
     "text": [
      "The cross validation score for the linear regression model is 0.8184950216500233.\n",
      "The cross validation score for the lassoCV regression model is 0.818003100628091.\n",
      "The cross validation score for the ridgeCV regression model is 0.8184950212994895.\n",
      "The cross validation score for the elasticnetCV regression model is 0.02886066860012624.\n"
     ]
    }
   ],
   "source": [
    "# Compute accuracy using cross_val_score() for linear regression model\n",
    "print(f'The cross validation score for the linear regression model is {cross_val_score(lr, X_train, y_train, cv=5).mean()}.')\n",
    "\n",
    "# Compute accuracy using cross_val_score() for lasso_cv regularisation regression model\n",
    "print(f'The cross validation score for the lassoCV regression model is {cross_val_score(lasso_cv, X_train, y_train, cv=5).mean()}.')\n",
    "\n",
    "# Compute accuracy using cross_val_score() for ridge_cv regularisation regression model\n",
    "print(f'The cross validation score for the ridgeCV regression model is {cross_val_score(ridge_cv, X_train, y_train, cv=5).mean()}.')\n",
    "\n",
    "# Compute accuracy using cross_val_score() for elasticnet_cv regression model\n",
    "print(f'The cross validation score for the elasticnetCV regression model is {cross_val_score(elnet_cv, X_train, y_train, cv=5).mean()}.')"
   ]
  },
  {
   "cell_type": "markdown",
   "id": "d23c2ea1-1033-4989-8d31-3a2303392876",
   "metadata": {},
   "source": [
    "*Use `model.score()` to evaluate all four models - accuracy.*"
   ]
  },
  {
   "cell_type": "code",
   "execution_count": 26,
   "id": "23503adb-bb87-43b8-a291-f2690d660403",
   "metadata": {},
   "outputs": [
    {
     "name": "stdout",
     "output_type": "stream",
     "text": [
      "The linear regression model achieved an accuracy rate of 0.8185866874737797 on the training data.\n",
      "The linear regression model achieved an accruacy rate of 0.8166919669446058 on the validation data.\n",
      "The lassoCV regression model achieved an accuracy rate of 0.8180943607765139 on the training data.\n",
      "The lassoCV regression model achieved an accuracy rate of 0.8163301809938974 on the validation data.\n",
      "The ridgeCV regression model achieved an accuracy rate of 0.8185866860310792 on the training data.\n",
      "The ridgeCV regression model achieved an accuracy rate of 0.8166919290914773 on the validation data.\n",
      "The elasticnetCV regression model achieved an accruacy rate of 0.0289096747355716 on the training data.\n",
      "The elasticnetCV regression model achieved an accuracy rate of 0.028718852083416402 on the validation data.\n"
     ]
    }
   ],
   "source": [
    "# Compute accuracy using lr.score() \n",
    "print(f'The linear regression model achieved an accuracy rate of {lr.score(X_train, y_train)} on the training data.') \n",
    "print(f'The linear regression model achieved an accruacy rate of {lr.score(X_test, y_test)} on the validation data.')\n",
    "\n",
    "# Compute accuracy using lasso_cv.score()\n",
    "print(f'The lassoCV regression model achieved an accuracy rate of {lasso_cv.score(X_train, y_train)} on the training data.')\n",
    "print(f'The lassoCV regression model achieved an accuracy rate of {lasso_cv.score(X_test, y_test)} on the validation data.')\n",
    "\n",
    "# Compute accuracy using ridge_cv.score()\n",
    "print(f'The ridgeCV regression model achieved an accuracy rate of {ridge_cv.score(X_train, y_train)} on the training data.')\n",
    "print(f'The ridgeCV regression model achieved an accuracy rate of {ridge_cv.score(X_test, y_test)} on the validation data.')\n",
    "\n",
    "# Compute accuracy using elnet_cv.score()\n",
    "print(f'The elasticnetCV regression model achieved an accruacy rate of {elnet_cv.score(X_train, y_train)} on the training data.')\n",
    "print(f'The elasticnetCV regression model achieved an accuracy rate of {elnet_cv.score(X_test, y_test)} on the validation data.')"
   ]
  },
  {
   "cell_type": "markdown",
   "id": "347b1319-41f1-4977-86fa-c5d208166b90",
   "metadata": {},
   "source": [
    "*Use `metrics.r2_score()` to evaluate all four models - accuracy.*"
   ]
  },
  {
   "cell_type": "code",
   "execution_count": 27,
   "id": "ddfbf462-7f05-4e20-90ab-04a40b772b1b",
   "metadata": {},
   "outputs": [
    {
     "name": "stdout",
     "output_type": "stream",
     "text": [
      "The linear regression model achieved an R2 score of 0.8185866874737797 on the training data.\n",
      "The lassoCV regression model achieved an R2 score of 0.8180943607765139 on the training data.\n",
      "The ridgeCV regression model achieved an R2 score of 0.8185866860310792 on the training data.\n",
      "The elasticnetCV regression model achieved an R2 score of 0.0289096747355716 on the training data.\n"
     ]
    }
   ],
   "source": [
    "# Compute y_train_pred for linear regression model\n",
    "y_train_pred = lr.predict(X_train)\n",
    "# Compute accuracy score using metrics.r2_score()\n",
    "print(f'The linear regression model achieved an R2 score of {metrics.r2_score(y_train, y_train_pred)} on the training data.')\n",
    "\n",
    "# Compute y_train_pred for lasso_cv regression model\n",
    "y_train_pred = lasso_cv.predict(X_train)\n",
    "# Compute accuracy score using metrics.r2_score()\n",
    "print(f'The lassoCV regression model achieved an R2 score of {metrics.r2_score(y_train, y_train_pred)} on the training data.')\n",
    "\n",
    "# Compute y_train_pred for ridge_cv regression model\n",
    "y_train_pred = ridge_cv.predict(X_train) \n",
    "# Compute accuracy score using metrics.r2_score()\n",
    "print(f'The ridgeCV regression model achieved an R2 score of {metrics.r2_score(y_train, y_train_pred)} on the training data.')\n",
    "\n",
    "# Compute y_train_pred for elsticnet_cv regression model\n",
    "y_train_pred = elnet_cv.predict(X_train) \n",
    "# Compute accuracy score using metrics.r2_score()\n",
    "print(f'The elasticnetCV regression model achieved an R2 score of {metrics.r2_score(y_train, y_train_pred)} on the training data.')"
   ]
  },
  {
   "cell_type": "code",
   "execution_count": 28,
   "id": "ba0cf373-aa80-4563-8c5a-d192bb13350c",
   "metadata": {},
   "outputs": [
    {
     "name": "stdout",
     "output_type": "stream",
     "text": [
      "The linear regression model achieved an R2 score of 0.8166919669446058 on the validation data.\n",
      "The lassoCV regression model achieved an R2 score of 0.8163301809938974 on the validation data.\n",
      "The ridgeCV regression model achieved an R2 score of 0.8166919290914773 on the validation data.\n",
      "The elasticnetCV regression model achieved an R2 score of 0.028718852083416402 on the validation data.\n"
     ]
    }
   ],
   "source": [
    "# Compute y_test_pred for linear regression model\n",
    "y_test_pred = lr.predict(X_test)\n",
    "# Compute accuracy score using metrics.r2_score()\n",
    "print(f'The linear regression model achieved an R2 score of {metrics.r2_score(y_test, y_test_pred)} on the validation data.')\n",
    "\n",
    "# Compute y_test_pred for lasso_cv regression model\n",
    "y_test_pred = lasso_cv.predict(X_test)\n",
    "# Compute accuracy score using metrics.r2_score()\n",
    "print(f'The lassoCV regression model achieved an R2 score of {metrics.r2_score(y_test, y_test_pred)} on the validation data.')\n",
    "\n",
    "# Compute y_train_pred for ridge_cv regression model\n",
    "y_test_pred = ridge_cv.predict(X_test) \n",
    "# Compute accuracy score using metrics.r2_score()\n",
    "print(f'The ridgeCV regression model achieved an R2 score of {metrics.r2_score(y_test, y_test_pred)} on the validation data.')\n",
    "\n",
    "# Compute y_train_pred for elsticnet_Cv regression model\n",
    "y_test_pred = elnet_cv.predict(X_test) \n",
    "# Compute accuracy score using metrics.r2_score()\n",
    "print(f'The elasticnetCV regression model achieved an R2 score of {metrics.r2_score(y_test, y_test_pred)} on the validation data.')"
   ]
  },
  {
   "cell_type": "markdown",
   "id": "b401e7b4-1643-4f6d-9f59-8737c7e47a97",
   "metadata": {},
   "source": [
    "*Use `metrics.mean_squared_error()` to evaluate all four models - RMSE.*"
   ]
  },
  {
   "cell_type": "code",
   "execution_count": 29,
   "id": "093832ee-d879-449c-b904-7b85781950af",
   "metadata": {},
   "outputs": [
    {
     "name": "stdout",
     "output_type": "stream",
     "text": [
      "The linear regression model produced a RMSE of 61116.25322478133 on the training data.\n",
      "The lassoCV regression model produced a RMSE of 61199.12690158335 on the training data.\n",
      "The ridgeCV regression model produced a RMSE of 61116.2534677967 on the training data.\n",
      "The elasticnetCV regression model produced a RMSE of 141400.82997465954 on the training data.\n"
     ]
    }
   ],
   "source": [
    "# Compute y_train_pred for linear regression model\n",
    "y_train_pred = lr.predict(X_train)\n",
    "# Compute root mean square error (RMSE) using metrics.mean_squared_error()\n",
    "print(f'The linear regression model produced a RMSE of {metrics.mean_squared_error(y_train, y_train_pred, squared=False)} on the training data.')\n",
    "\n",
    "# Compute y_train_pred for lasso_cv regression model\n",
    "y_train_pred = lasso_cv.predict(X_train)\n",
    "# Compute root mean square error (RMSE) using metrics.mean_squared_error()\n",
    "print(f'The lassoCV regression model produced a RMSE of {metrics.mean_squared_error(y_train, y_train_pred, squared=False)} on the training data.')\n",
    "\n",
    "# Compute y_train_pred for ridge_cv regression model\n",
    "y_train_pred = ridge_cv.predict(X_train) \n",
    "# Compute root mean square error (RMSE) using metrics.mean_squared_error()\n",
    "print(f'The ridgeCV regression model produced a RMSE of {metrics.mean_squared_error(y_train, y_train_pred, squared=False)} on the training data.')\n",
    "\n",
    "# Compute y_train_pred for elsticnet_cv regression model\n",
    "y_train_pred = elnet_cv.predict(X_train) \n",
    "# Compute root mean square error (RMSE) using metrics.mean_squared_error()\n",
    "print(f'The elasticnetCV regression model produced a RMSE of {metrics.mean_squared_error(y_train, y_train_pred, squared=False)} on the training data.')"
   ]
  },
  {
   "cell_type": "code",
   "execution_count": 30,
   "id": "564ef7b3-1c16-4715-9d0e-15164e8637aa",
   "metadata": {},
   "outputs": [
    {
     "name": "stdout",
     "output_type": "stream",
     "text": [
      "The linear regression model produced a RMSE of 61116.50028832591 on the validation data.\n",
      "The lassoCV regression model produced a RMSE of 61176.781858246744 on the validation data.\n",
      "The ridgeCV regression model produced a RMSE of 61116.50659860751 on the validation data.\n",
      "The elasticnetCV regression model produced a RMSE of 140682.54242291336 on the validation data.\n"
     ]
    }
   ],
   "source": [
    "# Compute y_test_pred for linear regression model\n",
    "y_test_pred = lr.predict(X_test)\n",
    "# Compute root mean square error (RMSE) using metrics.mean_squared_error()\n",
    "print(f'The linear regression model produced a RMSE of {metrics.mean_squared_error(y_test, y_test_pred, squared=False)} on the validation data.')\n",
    "\n",
    "# Compute y_test_pred for lasso_cv regression model\n",
    "y_test_pred = lasso_cv.predict(X_test)\n",
    "# Compute root mean square error (RMSE) using metrics.mean_squared_error()\n",
    "print(f'The lassoCV regression model produced a RMSE of {metrics.mean_squared_error(y_test, y_test_pred, squared=False)} on the validation data.')\n",
    "\n",
    "# Compute y_test_pred for ridge_cv regression model\n",
    "y_test_pred = ridge_cv.predict(X_test) \n",
    "# Compute root mean square error (RMSE) using metrics.mean_squared_error()\n",
    "print(f'The ridgeCV regression model produced a RMSE of {metrics.mean_squared_error(y_test, y_test_pred, squared=False)} on the validation data.')\n",
    "\n",
    "# Compute y_test_pred for elasticnet_cv regression model\n",
    "y_test_pred = elnet_cv.predict(X_test) \n",
    "# Compute root mean square error (RMSE) using metrics.mean_squared_error()\n",
    "print(f'The elasticnetCV regression model produced a RMSE of {metrics.mean_squared_error(y_test, y_test_pred, squared=False)} on the validation data.')"
   ]
  },
  {
   "cell_type": "markdown",
   "id": "b990251c-2a40-4c80-aa3e-8a8d6e10ccdf",
   "metadata": {},
   "source": [
    "---\n",
    "<a id='evaluation_and_conceptual_understanding'></a>\n",
    "## 6. Deploy Best Performing Model on Unseen Data"
   ]
  },
  {
   "cell_type": "code",
   "execution_count": 31,
   "id": "4491fe86-b4f0-4d71-bf55-f4894ac94296",
   "metadata": {},
   "outputs": [
    {
     "data": {
      "text/plain": [
       "Index(['resale_price', 'floor_area_sqft', 'hdb_age', 'max_floor_lvl',\n",
       "       'mall_nearest_distance', 'hawker_nearest_distance',\n",
       "       'mrt_nearest_distance', 'bus_stop_nearest_distance',\n",
       "       'pri_sch_nearest_distance', 'sec_sch_nearest_dist', 'flat_type_cat',\n",
       "       'storey_range_cat', 'flat_model_Apartment', 'flat_model_Maisonette',\n",
       "       'flat_model_Model A', 'flat_model_Multi Generation',\n",
       "       'flat_model_New Generation', 'flat_model_Special', 'planning_area_west',\n",
       "       'planning_area_north_east', 'planning_area_east',\n",
       "       'planning_area_north'],\n",
       "      dtype='object')"
      ]
     },
     "execution_count": 31,
     "metadata": {},
     "output_type": "execute_result"
    }
   ],
   "source": [
    "# Check hdb_train for columns\n",
    "hdb_train.columns"
   ]
  },
  {
   "cell_type": "markdown",
   "id": "59dda2b2-49f4-4030-8428-13d80d7bc8e4",
   "metadata": {
    "tags": []
   },
   "source": [
    "#### *Import `hdb_test.csv` dataset for preprocessing & modeling.*"
   ]
  },
  {
   "cell_type": "code",
   "execution_count": 32,
   "id": "912eb00c-dc06-43fd-b857-da987646830d",
   "metadata": {},
   "outputs": [],
   "source": [
    "# import hdb_train before preprocessing \n",
    "hdb_test = pd.read_pickle('../data/hdb_test.csv') "
   ]
  },
  {
   "cell_type": "code",
   "execution_count": 33,
   "id": "1f89decf-ad27-41a3-addc-2596b820ae28",
   "metadata": {
    "scrolled": true,
    "tags": []
   },
   "outputs": [
    {
     "name": "stdout",
     "output_type": "stream",
     "text": [
      "<class 'pandas.core.frame.DataFrame'>\n",
      "RangeIndex: 16737 entries, 0 to 16736\n",
      "Data columns (total 76 columns):\n",
      " #   Column                     Non-Null Count  Dtype         \n",
      "---  ------                     --------------  -----         \n",
      " 0   id                         16737 non-null  category      \n",
      " 1   tranc_yearmonth            16737 non-null  datetime64[ns]\n",
      " 2   town                       16737 non-null  category      \n",
      " 3   flat_type                  16737 non-null  category      \n",
      " 4   block                      16737 non-null  category      \n",
      " 5   street_name                16737 non-null  category      \n",
      " 6   storey_range               16737 non-null  category      \n",
      " 7   floor_area_sqm             16737 non-null  float64       \n",
      " 8   flat_model                 16737 non-null  category      \n",
      " 9   lease_commence_date        16737 non-null  int64         \n",
      " 10  tranc_year                 16737 non-null  datetime64[ns]\n",
      " 11  tranc_month                16737 non-null  datetime64[ns]\n",
      " 12  mid_storey                 16737 non-null  int64         \n",
      " 13  lower                      16737 non-null  int64         \n",
      " 14  upper                      16737 non-null  int64         \n",
      " 15  mid                        16737 non-null  int64         \n",
      " 16  full_flat_type             16737 non-null  category      \n",
      " 17  address                    16737 non-null  category      \n",
      " 18  floor_area_sqft            16737 non-null  float64       \n",
      " 19  hdb_age                    16737 non-null  int64         \n",
      " 20  max_floor_lvl              16737 non-null  int64         \n",
      " 21  year_completed             16737 non-null  int64         \n",
      " 22  residential                16737 non-null  category      \n",
      " 23  commercial                 16737 non-null  category      \n",
      " 24  market_hawker              16737 non-null  category      \n",
      " 25  multistorey_carpark        16737 non-null  category      \n",
      " 26  precinct_pavilion          16737 non-null  category      \n",
      " 27  total_dwelling_units       16737 non-null  int64         \n",
      " 28  1room_sold                 16737 non-null  int64         \n",
      " 29  2room_sold                 16737 non-null  int64         \n",
      " 30  3room_sold                 16737 non-null  int64         \n",
      " 31  4room_sold                 16737 non-null  int64         \n",
      " 32  5room_sold                 16737 non-null  int64         \n",
      " 33  exec_sold                  16737 non-null  int64         \n",
      " 34  multigen_sold              16737 non-null  int64         \n",
      " 35  studio_apartment_sold      16737 non-null  int64         \n",
      " 36  1room_rental               16737 non-null  int64         \n",
      " 37  2room_rental               16737 non-null  int64         \n",
      " 38  3room_rental               16737 non-null  int64         \n",
      " 39  other_room_rental          16737 non-null  int64         \n",
      " 40  postal                     16737 non-null  category      \n",
      " 41  latitude                   16737 non-null  float64       \n",
      " 42  longitude                  16737 non-null  float64       \n",
      " 43  planning_area              16737 non-null  category      \n",
      " 44  mall_nearest_distance      16737 non-null  float64       \n",
      " 45  mall_within_500m           16737 non-null  float64       \n",
      " 46  mall_within_1km            16737 non-null  float64       \n",
      " 47  mall_within_2km            16737 non-null  float64       \n",
      " 48  hawker_nearest_distance    16737 non-null  float64       \n",
      " 49  hawker_within_500m         16737 non-null  float64       \n",
      " 50  hawker_within_1km          16737 non-null  float64       \n",
      " 51  hawker_within_2km          16737 non-null  float64       \n",
      " 52  hawker_food_stalls         16737 non-null  int64         \n",
      " 53  hawker_market_stalls       16737 non-null  int64         \n",
      " 54  mrt_nearest_distance       16737 non-null  float64       \n",
      " 55  mrt_name                   16737 non-null  category      \n",
      " 56  bus_interchange            16737 non-null  category      \n",
      " 57  mrt_interchange            16737 non-null  category      \n",
      " 58  mrt_latitude               16737 non-null  float64       \n",
      " 59  mrt_longitude              16737 non-null  float64       \n",
      " 60  bus_stop_nearest_distance  16737 non-null  float64       \n",
      " 61  bus_stop_name              16737 non-null  category      \n",
      " 62  bus_stop_latitude          16737 non-null  float64       \n",
      " 63  bus_stop_longitude         16737 non-null  float64       \n",
      " 64  pri_sch_nearest_distance   16737 non-null  float64       \n",
      " 65  pri_sch_name               16737 non-null  category      \n",
      " 66  vacancy                    16737 non-null  int64         \n",
      " 67  pri_sch_affiliation        16737 non-null  category      \n",
      " 68  pri_sch_latitude           16737 non-null  float64       \n",
      " 69  pri_sch_longitude          16737 non-null  float64       \n",
      " 70  sec_sch_nearest_dist       16737 non-null  float64       \n",
      " 71  sec_sch_name               16737 non-null  category      \n",
      " 72  cutoff_point               16737 non-null  int64         \n",
      " 73  sec_sch_affiliation        16737 non-null  category      \n",
      " 74  sec_sch_latitude           16737 non-null  float64       \n",
      " 75  sec_sch_longitude          16737 non-null  float64       \n",
      "dtypes: category(24), datetime64[ns](3), float64(24), int64(25)\n",
      "memory usage: 7.4 MB\n"
     ]
    }
   ],
   "source": [
    "hdb_test.info()"
   ]
  },
  {
   "cell_type": "code",
   "execution_count": 34,
   "id": "ff310aa5-b062-4f22-855d-2473c3d1a477",
   "metadata": {
    "scrolled": true,
    "tags": []
   },
   "outputs": [
    {
     "data": {
      "text/plain": [
       "Index(['id', 'tranc_yearmonth', 'town', 'flat_type', 'block', 'street_name',\n",
       "       'storey_range', 'floor_area_sqm', 'flat_model', 'lease_commence_date',\n",
       "       'tranc_year', 'tranc_month', 'mid_storey', 'lower', 'upper', 'mid',\n",
       "       'full_flat_type', 'address', 'floor_area_sqft', 'hdb_age',\n",
       "       'max_floor_lvl', 'year_completed', 'residential', 'commercial',\n",
       "       'market_hawker', 'multistorey_carpark', 'precinct_pavilion',\n",
       "       'total_dwelling_units', '1room_sold', '2room_sold', '3room_sold',\n",
       "       '4room_sold', '5room_sold', 'exec_sold', 'multigen_sold',\n",
       "       'studio_apartment_sold', '1room_rental', '2room_rental', '3room_rental',\n",
       "       'other_room_rental', 'postal', 'latitude', 'longitude', 'planning_area',\n",
       "       'mall_nearest_distance', 'mall_within_500m', 'mall_within_1km',\n",
       "       'mall_within_2km', 'hawker_nearest_distance', 'hawker_within_500m',\n",
       "       'hawker_within_1km', 'hawker_within_2km', 'hawker_food_stalls',\n",
       "       'hawker_market_stalls', 'mrt_nearest_distance', 'mrt_name',\n",
       "       'bus_interchange', 'mrt_interchange', 'mrt_latitude', 'mrt_longitude',\n",
       "       'bus_stop_nearest_distance', 'bus_stop_name', 'bus_stop_latitude',\n",
       "       'bus_stop_longitude', 'pri_sch_nearest_distance', 'pri_sch_name',\n",
       "       'vacancy', 'pri_sch_affiliation', 'pri_sch_latitude',\n",
       "       'pri_sch_longitude', 'sec_sch_nearest_dist', 'sec_sch_name',\n",
       "       'cutoff_point', 'sec_sch_affiliation', 'sec_sch_latitude',\n",
       "       'sec_sch_longitude'],\n",
       "      dtype='object')"
      ]
     },
     "execution_count": 34,
     "metadata": {},
     "output_type": "execute_result"
    }
   ],
   "source": [
    "# Check hdb_test for columns\n",
    "hdb_test.columns"
   ]
  },
  {
   "cell_type": "code",
   "execution_count": 35,
   "id": "e0858ada-8c54-477b-a3a6-ab336ac7ff18",
   "metadata": {},
   "outputs": [],
   "source": [
    "# Select for all features that are of interest to hdb_test\n",
    "hdb_test = hdb_test[['flat_model', 'planning_area', 'flat_type', 'storey_range',\n",
    "                     'floor_area_sqft', 'hdb_age', 'max_floor_lvl', \n",
    "                     'mall_nearest_distance', 'hawker_nearest_distance', 'mrt_nearest_distance', \n",
    "                     'bus_stop_nearest_distance', 'pri_sch_nearest_distance', 'sec_sch_nearest_dist']]"
   ]
  },
  {
   "cell_type": "markdown",
   "id": "1b0fea6f-730d-48d6-811b-369ce3f77bca",
   "metadata": {},
   "source": [
    "Label encode categorical data `flat_type` and `storey_range`."
   ]
  },
  {
   "cell_type": "code",
   "execution_count": 36,
   "id": "825816a2-6894-47ce-9174-1dd2fbeb1db3",
   "metadata": {},
   "outputs": [
    {
     "data": {
      "text/plain": [
       "4 ROOM              6867\n",
       "3 ROOM              4364\n",
       "5 ROOM              3992\n",
       "EXECUTIVE           1264\n",
       "2 ROOM               235\n",
       "MULTI-GENERATION       8\n",
       "1 ROOM                 7\n",
       "Name: flat_type, dtype: int64"
      ]
     },
     "execution_count": 36,
     "metadata": {},
     "output_type": "execute_result"
    }
   ],
   "source": [
    "# Check out unique classes and value count for 'flat_type'\n",
    "hdb_test['flat_type'].value_counts()"
   ]
  },
  {
   "cell_type": "code",
   "execution_count": 37,
   "id": "bd8ff7c5-ee54-4532-8860-18f5e667f386",
   "metadata": {},
   "outputs": [
    {
     "data": {
      "text/plain": [
       "3    6867\n",
       "2    4364\n",
       "4    3992\n",
       "5    1264\n",
       "1     235\n",
       "6       8\n",
       "0       7\n",
       "Name: flat_type_cat, dtype: int64"
      ]
     },
     "execution_count": 37,
     "metadata": {},
     "output_type": "execute_result"
    }
   ],
   "source": [
    "# Label encode 'flat_type'\n",
    "\n",
    "# Assign numerical values and store in another column\n",
    "hdb_test['flat_type_cat'] = hdb_test['flat_type'].cat.codes\n",
    "hdb_test['flat_type_cat'].value_counts()"
   ]
  },
  {
   "cell_type": "code",
   "execution_count": 38,
   "id": "e7dde012-9156-4c80-9580-bfbe3d288e63",
   "metadata": {},
   "outputs": [],
   "source": [
    "# Drop 'flat_type' column, because you have 'flat_type_cat'\n",
    "hdb_test.drop('flat_type', axis=1, inplace=True)"
   ]
  },
  {
   "cell_type": "code",
   "execution_count": 39,
   "id": "1a895e6c-371e-4754-b91f-c2a8736d403e",
   "metadata": {
    "scrolled": true,
    "tags": []
   },
   "outputs": [
    {
     "name": "stdout",
     "output_type": "stream",
     "text": [
      "<class 'pandas.core.frame.DataFrame'>\n",
      "RangeIndex: 16737 entries, 0 to 16736\n",
      "Data columns (total 13 columns):\n",
      " #   Column                     Non-Null Count  Dtype   \n",
      "---  ------                     --------------  -----   \n",
      " 0   flat_model                 16737 non-null  category\n",
      " 1   planning_area              16737 non-null  category\n",
      " 2   storey_range               16737 non-null  category\n",
      " 3   floor_area_sqft            16737 non-null  float64 \n",
      " 4   hdb_age                    16737 non-null  int64   \n",
      " 5   max_floor_lvl              16737 non-null  int64   \n",
      " 6   mall_nearest_distance      16737 non-null  float64 \n",
      " 7   hawker_nearest_distance    16737 non-null  float64 \n",
      " 8   mrt_nearest_distance       16737 non-null  float64 \n",
      " 9   bus_stop_nearest_distance  16737 non-null  float64 \n",
      " 10  pri_sch_nearest_distance   16737 non-null  float64 \n",
      " 11  sec_sch_nearest_dist       16737 non-null  float64 \n",
      " 12  flat_type_cat              16737 non-null  int8    \n",
      "dtypes: category(3), float64(7), int64(2), int8(1)\n",
      "memory usage: 1.2 MB\n"
     ]
    }
   ],
   "source": [
    "# Check if 'flat_type' has been replaced with 'flat_type_cat'\n",
    "# Note that 'flat_type_cat' is now a numerical (discrete) variable - int8\n",
    "hdb_test.info()"
   ]
  },
  {
   "cell_type": "code",
   "execution_count": 40,
   "id": "70fa97c7-743b-40a2-8c1c-bc20d84f59bc",
   "metadata": {
    "scrolled": true,
    "tags": []
   },
   "outputs": [
    {
     "data": {
      "text/plain": [
       "04 TO 06    3813\n",
       "07 TO 09    3410\n",
       "01 TO 03    3100\n",
       "10 TO 12    3001\n",
       "13 TO 15    1448\n",
       "16 TO 18     627\n",
       "19 TO 21     256\n",
       "01 TO 05     250\n",
       "06 TO 10     247\n",
       "22 TO 24     178\n",
       "11 TO 15     115\n",
       "25 TO 27     104\n",
       "28 TO 30      55\n",
       "37 TO 39      30\n",
       "16 TO 20      27\n",
       "31 TO 33      24\n",
       "34 TO 36      22\n",
       "40 TO 42      15\n",
       "21 TO 25       5\n",
       "26 TO 30       3\n",
       "43 TO 45       3\n",
       "46 TO 48       3\n",
       "49 TO 51       1\n",
       "Name: storey_range, dtype: int64"
      ]
     },
     "execution_count": 40,
     "metadata": {},
     "output_type": "execute_result"
    }
   ],
   "source": [
    "# Check out unique classes and value count for 'storey_range'\n",
    "hdb_test['storey_range'].value_counts()"
   ]
  },
  {
   "cell_type": "code",
   "execution_count": 41,
   "id": "2a18e40e-181b-4cfc-a886-8ecc195a55f2",
   "metadata": {
    "scrolled": true,
    "tags": []
   },
   "outputs": [
    {
     "data": {
      "text/plain": [
       "2     3813\n",
       "4     3410\n",
       "0     3100\n",
       "5     3001\n",
       "7     1448\n",
       "8      627\n",
       "10     256\n",
       "1      250\n",
       "3      247\n",
       "12     178\n",
       "6      115\n",
       "13     104\n",
       "15      55\n",
       "18      30\n",
       "9       27\n",
       "16      24\n",
       "17      22\n",
       "19      15\n",
       "11       5\n",
       "14       3\n",
       "21       3\n",
       "20       3\n",
       "22       1\n",
       "Name: storey_range_cat, dtype: int64"
      ]
     },
     "execution_count": 41,
     "metadata": {},
     "output_type": "execute_result"
    }
   ],
   "source": [
    "# Label encode 'storey_range'\n",
    "\n",
    "# Assign numerical values and store in another column\n",
    "hdb_test['storey_range_cat'] = hdb_test['storey_range'].cat.codes\n",
    "hdb_test['storey_range_cat'].value_counts()"
   ]
  },
  {
   "cell_type": "code",
   "execution_count": 42,
   "id": "a67de280-f540-4e7f-a7f7-81190c317ffd",
   "metadata": {},
   "outputs": [],
   "source": [
    "# Drop 'storey_range' column, because now you have 'storey_range_cat'\n",
    "hdb_test.drop('storey_range', axis=1, inplace=True)"
   ]
  },
  {
   "cell_type": "code",
   "execution_count": 43,
   "id": "9dcbb618-a6f6-4c66-8d98-0799b7fba99a",
   "metadata": {
    "scrolled": true,
    "tags": []
   },
   "outputs": [
    {
     "name": "stdout",
     "output_type": "stream",
     "text": [
      "<class 'pandas.core.frame.DataFrame'>\n",
      "RangeIndex: 16737 entries, 0 to 16736\n",
      "Data columns (total 13 columns):\n",
      " #   Column                     Non-Null Count  Dtype   \n",
      "---  ------                     --------------  -----   \n",
      " 0   flat_model                 16737 non-null  category\n",
      " 1   planning_area              16737 non-null  category\n",
      " 2   floor_area_sqft            16737 non-null  float64 \n",
      " 3   hdb_age                    16737 non-null  int64   \n",
      " 4   max_floor_lvl              16737 non-null  int64   \n",
      " 5   mall_nearest_distance      16737 non-null  float64 \n",
      " 6   hawker_nearest_distance    16737 non-null  float64 \n",
      " 7   mrt_nearest_distance       16737 non-null  float64 \n",
      " 8   bus_stop_nearest_distance  16737 non-null  float64 \n",
      " 9   pri_sch_nearest_distance   16737 non-null  float64 \n",
      " 10  sec_sch_nearest_dist       16737 non-null  float64 \n",
      " 11  flat_type_cat              16737 non-null  int8    \n",
      " 12  storey_range_cat           16737 non-null  int8    \n",
      "dtypes: category(2), float64(7), int64(2), int8(2)\n",
      "memory usage: 1.2 MB\n"
     ]
    }
   ],
   "source": [
    "# Check if 'storey_range' has been replaced with 'storey_range_cat'\n",
    "# Note that 'storey_range_cat' is now a numerical (discrete) variable - int8\n",
    "hdb_test.info()"
   ]
  },
  {
   "cell_type": "markdown",
   "id": "bd10125f-f4da-4c27-a579-d69577a32cf0",
   "metadata": {},
   "source": [
    "Dummy encode categorical variables `flat_model`, and `planning_area`."
   ]
  },
  {
   "cell_type": "code",
   "execution_count": 44,
   "id": "bd219fcd-ddb1-4ec0-9c86-3fc19262944d",
   "metadata": {
    "scrolled": true,
    "tags": []
   },
   "outputs": [
    {
     "data": {
      "text/plain": [
       "Model A                   5239\n",
       "Improved                  4201\n",
       "New Generation            2552\n",
       "Premium Apartment         1716\n",
       "Simplified                 829\n",
       "Apartment                  646\n",
       "Standard                   567\n",
       "Maisonette                 453\n",
       "Model A2                   258\n",
       "DBSS                       150\n",
       "Adjoined flat               30\n",
       "Type S1                     29\n",
       "Model A-Maisonette          29\n",
       "Type S2                     12\n",
       "Terrace                     10\n",
       "Multi Generation             8\n",
       "Premium Apartment Loft       4\n",
       "Premium Maisonette           2\n",
       "Improved-Maisonette          2\n",
       "Name: flat_model, dtype: int64"
      ]
     },
     "execution_count": 44,
     "metadata": {},
     "output_type": "execute_result"
    }
   ],
   "source": [
    "# Check out unique classes and value count for 'flat_model'\n",
    "hdb_test['flat_model'].value_counts()"
   ]
  },
  {
   "cell_type": "code",
   "execution_count": 45,
   "id": "1dbcbf04-af40-4b43-8048-eef99d456ebc",
   "metadata": {
    "tags": []
   },
   "outputs": [
    {
     "data": {
      "text/plain": [
       "Model A             6326\n",
       "Standard            4768\n",
       "New Generation      2552\n",
       "Apartment           2366\n",
       "Maisonette           486\n",
       "Special              231\n",
       "Multi Generation       8\n",
       "Name: flat_model, dtype: int64"
      ]
     },
     "execution_count": 45,
     "metadata": {},
     "output_type": "execute_result"
    }
   ],
   "source": [
    "# Further group classes in `flat_model` to reduce the number of classes\n",
    "# Dummy encode `flat_model`\n",
    "\n",
    "# Re-categorize `flat_model` to reduce number of classes\n",
    "# Categories: 'Model A', 'Maisonette', 'Special', 'Apartment', 'Standard', 'New Generation', 'Multi Generation'\n",
    "\n",
    "replace_values = {'Model A-Maisonette':'Maisonette', \n",
    "                  'Improved-Maisonette':'Maisonette',\n",
    "                  'Premium Maisonette':'Maisonette',\n",
    "                  'Model A2':'Model A',\n",
    "                  'Simplified':'Model A',  \n",
    "                  'Type S1':'Special',\n",
    "                  'Type S2':'Special',\n",
    "                  'DBSS':'Special',\n",
    "                  'Adjoined flat':'Special',\n",
    "                  'Terrace':'Special',\n",
    "                  'Premium Apartment':'Apartment',\n",
    "                  'Premium Apartment Loft':'Apartment',\n",
    "                  'Improved':'Standard',\n",
    "                  '2-room':'Standard'} # `2-room` is missing in `flat_model` for test.csv \n",
    "\n",
    "hdb_test.replace({'flat_model': replace_values}, inplace=True)\n",
    "\n",
    "# Check if 'flat_model' values have been re-classified\n",
    "hdb_test['flat_model'].value_counts()"
   ]
  },
  {
   "cell_type": "code",
   "execution_count": 46,
   "id": "ccb7ca3d-1ed2-4d5c-8e32-dfc2c767d343",
   "metadata": {
    "tags": []
   },
   "outputs": [],
   "source": [
    "# Dummy encode 'flat_model'\n",
    "hdb_test = pd.get_dummies(hdb_test, columns=['flat_model'], prefix=['flat_model'])\n",
    "\n",
    "# Remove `flat_model_Standard`, setting it as the baseline\n",
    "hdb_test = hdb_test.drop('flat_model_Standard', axis=1)"
   ]
  },
  {
   "cell_type": "code",
   "execution_count": 47,
   "id": "2029ff4e-f3c2-45f0-8e5b-5d14d0ee0cad",
   "metadata": {
    "scrolled": true,
    "tags": []
   },
   "outputs": [
    {
     "name": "stdout",
     "output_type": "stream",
     "text": [
      "<class 'pandas.core.frame.DataFrame'>\n",
      "RangeIndex: 16737 entries, 0 to 16736\n",
      "Data columns (total 18 columns):\n",
      " #   Column                       Non-Null Count  Dtype   \n",
      "---  ------                       --------------  -----   \n",
      " 0   planning_area                16737 non-null  category\n",
      " 1   floor_area_sqft              16737 non-null  float64 \n",
      " 2   hdb_age                      16737 non-null  int64   \n",
      " 3   max_floor_lvl                16737 non-null  int64   \n",
      " 4   mall_nearest_distance        16737 non-null  float64 \n",
      " 5   hawker_nearest_distance      16737 non-null  float64 \n",
      " 6   mrt_nearest_distance         16737 non-null  float64 \n",
      " 7   bus_stop_nearest_distance    16737 non-null  float64 \n",
      " 8   pri_sch_nearest_distance     16737 non-null  float64 \n",
      " 9   sec_sch_nearest_dist         16737 non-null  float64 \n",
      " 10  flat_type_cat                16737 non-null  int8    \n",
      " 11  storey_range_cat             16737 non-null  int8    \n",
      " 12  flat_model_Apartment         16737 non-null  uint8   \n",
      " 13  flat_model_Maisonette        16737 non-null  uint8   \n",
      " 14  flat_model_Model A           16737 non-null  uint8   \n",
      " 15  flat_model_Multi Generation  16737 non-null  uint8   \n",
      " 16  flat_model_New Generation    16737 non-null  uint8   \n",
      " 17  flat_model_Special           16737 non-null  uint8   \n",
      "dtypes: category(1), float64(7), int64(2), int8(2), uint8(6)\n",
      "memory usage: 1.3 MB\n"
     ]
    }
   ],
   "source": [
    "# Check to see if 'flat_model' has been dummy encoded into 7-1 other dummy variables \n",
    "# 'flat_model_apartment','flat_model_maisonette', 'flat_model_model_A', \n",
    "# 'flat_model_multi_generation','flat_model_new_generation', 'flat_model_special'\n",
    "# Note that 6 new dummy variables are now numerical (discrete) in nature - uint8\n",
    "hdb_test.info()"
   ]
  },
  {
   "cell_type": "code",
   "execution_count": 48,
   "id": "7d5c22f2-a277-43c7-a753-390d6679eac8",
   "metadata": {
    "scrolled": true,
    "tags": []
   },
   "outputs": [
    {
     "name": "stdout",
     "output_type": "stream",
     "text": [
      "Jurong West                1246\n",
      "Woodlands                  1242\n",
      "Sengkang                   1242\n",
      "Tampines                   1140\n",
      "Yishun                     1096\n",
      "Bedok                      1015\n",
      "Punggol                     865\n",
      "Ang Mo Kio                  824\n",
      "Hougang                     803\n",
      "Choa Chu Kang               713\n",
      "Bukit Merah                 655\n",
      "Bukit Batok                 649\n",
      "Bukit Panjang               646\n",
      "Toa Payoh                   560\n",
      "Pasir Ris                   537\n",
      "Queenstown                  466\n",
      "Geylang                     434\n",
      "Sembawang                   401\n",
      "Clementi                    389\n",
      "Kallang                     369\n",
      "Serangoon                   349\n",
      "Jurong East                 335\n",
      "Bishan                      330\n",
      "Novena                      123\n",
      "Marine Parade               121\n",
      "Outram                       85\n",
      "Rochor                       45\n",
      "Bukit Timah                  41\n",
      "Changi                        6\n",
      "Downtown Core                 6\n",
      "Tanglin                       3\n",
      "Western Water Catchment       1\n",
      "Name: planning_area, dtype: int64\n",
      "32\n"
     ]
    }
   ],
   "source": [
    "# Consider re-classifying values based on district\n",
    "# or region (north/south/east/west/central or CCR/RCR/OCR)\n",
    "print(hdb_test['planning_area'].value_counts())\n",
    "print(hdb_test['planning_area'].nunique())"
   ]
  },
  {
   "cell_type": "code",
   "execution_count": 49,
   "id": "640c0365-fe47-4d53-9038-bff782d903dc",
   "metadata": {
    "tags": []
   },
   "outputs": [
    {
     "data": {
      "text/plain": [
       "west          3979\n",
       "east          3563\n",
       "central       3238\n",
       "north_east    3218\n",
       "north         2739\n",
       "Name: planning_area, dtype: int64"
      ]
     },
     "execution_count": 49,
     "metadata": {},
     "output_type": "execute_result"
    }
   ],
   "source": [
    "# Re-categorize `planning_area` to reduce number of classes\n",
    "# Categories: 'north', 'east', 'west', 'central', 'north_east'\n",
    "# Source: URA\n",
    "\n",
    "replace_values = {'Jurong West':'west',\n",
    "                  'Choa Chu Kang':'west',\n",
    "                  'Bukit Batok':'west',\n",
    "                  'Bukit Panjang':'west',\n",
    "                  'Clementi':'west',\n",
    "                  'Jurong East':'west',\n",
    "                  'Western Water Catchment':'west',\n",
    "                  'Woodlands':'north',\n",
    "                  'Yishun':'north',\n",
    "                  'Sembawang':'north',\n",
    "                  'Sengkang':'north_east',\n",
    "                  'Ang Mo Kio':'north_east',\n",
    "                  'Serangoon':'north_east',\n",
    "                  'Hougang':'north_east',\n",
    "                  'Bukit Merah':'central',\n",
    "                  'Toa Payoh':'central',\n",
    "                  'Bishan':'central',\n",
    "                  'Novena':'central',\n",
    "                  'Downtown Core':'central',\n",
    "                  'Tanglin':'central',\n",
    "                  'Outram':'central',\n",
    "                  'Rochor':'central',\n",
    "                  'Bukit Timah':'central',\n",
    "                  'Queenstown':'central',\n",
    "                  'Marine Parade':'central',\n",
    "                  'Geylang':'central',\n",
    "                  'Kallang':'central',\n",
    "                  'Tampines':'east',\n",
    "                  'Bedok':'east',\n",
    "                  'Punggol':'east',\n",
    "                  'Pasir Ris':'east',\n",
    "                  'Changi':'east'}\n",
    "\n",
    "hdb_test.replace({'planning_area': replace_values}, inplace=True)\n",
    "\n",
    "# Check if 'planning_area' values have been re-classified\n",
    "hdb_test['planning_area'].value_counts()"
   ]
  },
  {
   "cell_type": "code",
   "execution_count": 50,
   "id": "c8350e85-10fe-4f87-bcde-9e4a9eb10a8e",
   "metadata": {},
   "outputs": [],
   "source": [
    "# Dummy encode 'planning_area'\n",
    "hdb_test = pd.get_dummies(hdb_test, columns=['planning_area'], prefix=['planning_area'], drop_first=True) # 'planning_area_central is baseline"
   ]
  },
  {
   "cell_type": "code",
   "execution_count": 51,
   "id": "d1a1a6d8-d7cd-4ba4-89bb-45e5e40f70c4",
   "metadata": {
    "scrolled": true,
    "tags": []
   },
   "outputs": [
    {
     "name": "stdout",
     "output_type": "stream",
     "text": [
      "<class 'pandas.core.frame.DataFrame'>\n",
      "RangeIndex: 16737 entries, 0 to 16736\n",
      "Data columns (total 21 columns):\n",
      " #   Column                       Non-Null Count  Dtype  \n",
      "---  ------                       --------------  -----  \n",
      " 0   floor_area_sqft              16737 non-null  float64\n",
      " 1   hdb_age                      16737 non-null  int64  \n",
      " 2   max_floor_lvl                16737 non-null  int64  \n",
      " 3   mall_nearest_distance        16737 non-null  float64\n",
      " 4   hawker_nearest_distance      16737 non-null  float64\n",
      " 5   mrt_nearest_distance         16737 non-null  float64\n",
      " 6   bus_stop_nearest_distance    16737 non-null  float64\n",
      " 7   pri_sch_nearest_distance     16737 non-null  float64\n",
      " 8   sec_sch_nearest_dist         16737 non-null  float64\n",
      " 9   flat_type_cat                16737 non-null  int8   \n",
      " 10  storey_range_cat             16737 non-null  int8   \n",
      " 11  flat_model_Apartment         16737 non-null  uint8  \n",
      " 12  flat_model_Maisonette        16737 non-null  uint8  \n",
      " 13  flat_model_Model A           16737 non-null  uint8  \n",
      " 14  flat_model_Multi Generation  16737 non-null  uint8  \n",
      " 15  flat_model_New Generation    16737 non-null  uint8  \n",
      " 16  flat_model_Special           16737 non-null  uint8  \n",
      " 17  planning_area_west           16737 non-null  uint8  \n",
      " 18  planning_area_north_east     16737 non-null  uint8  \n",
      " 19  planning_area_east           16737 non-null  uint8  \n",
      " 20  planning_area_north          16737 non-null  uint8  \n",
      "dtypes: float64(7), int64(2), int8(2), uint8(10)\n",
      "memory usage: 1.3 MB\n"
     ]
    }
   ],
   "source": [
    "# Check to see if 'planning_area' has been dummy encoded into 5-1 other dummy variables \n",
    "# 'planning_area_west','planning_area_north_east', 'planning_area_east', 'planning_area_north'\n",
    "# Note that 4 new dummy variables are now numerical (discrete) in nature - uint8\n",
    "hdb_test.info()"
   ]
  },
  {
   "cell_type": "code",
   "execution_count": 52,
   "id": "6642f201-3dd6-4d22-9781-964d7c12fc0f",
   "metadata": {},
   "outputs": [],
   "source": [
    "# Create test_df.csv \n",
    "hdb_test.to_pickle('../data/test_df.csv')"
   ]
  },
  {
   "cell_type": "markdown",
   "id": "0c0e9487-cc0d-411a-8ae0-b41d62f04d11",
   "metadata": {
    "tags": []
   },
   "source": [
    "---\n",
    "## Generate 'Null' Model CSV for Kaggle Baseline Submission\n",
    "- For computation of baseline score that my model has to beat minimally.\n",
    "- After data cleaning (do not drop columns and rows for both `train.csv` and `test.csv` before computation of baseline performance on kaggle) - because csv file has to be of certain shape (16737, 2)\n",
    "- After evaluation of baseline model on kaggle, you can drop columns and rows as you deem fit.\n"
   ]
  },
  {
   "cell_type": "code",
   "execution_count": 53,
   "id": "1ee3ba11-7d3c-4373-9807-5f2e7b28b989",
   "metadata": {},
   "outputs": [],
   "source": [
    "# import hdb_train\n",
    "# hdb_train = pd.read_pickle('../data/hdb_train.csv') "
   ]
  },
  {
   "cell_type": "code",
   "execution_count": 54,
   "id": "0b111f15-989e-4062-9c0e-564a9c15ad12",
   "metadata": {},
   "outputs": [],
   "source": [
    "# import hdb_test\n",
    "hdb_test = pd.read_pickle('../data/hdb_test.csv')"
   ]
  },
  {
   "cell_type": "code",
   "execution_count": 55,
   "id": "47f63f9f-e127-433c-a963-caef697c3a0d",
   "metadata": {},
   "outputs": [
    {
     "data": {
      "text/plain": [
       "449161.50121307274"
      ]
     },
     "execution_count": 55,
     "metadata": {},
     "output_type": "execute_result"
    }
   ],
   "source": [
    "# Compute mean of resale_price in cleaned `hdb_train`\n",
    "hdb_train['resale_price'].mean()"
   ]
  },
  {
   "cell_type": "code",
   "execution_count": 56,
   "id": "bf1d17a8-dd16-477d-9b2f-0c8549f82ae9",
   "metadata": {},
   "outputs": [],
   "source": [
    "# Create a dataframe for kaggle submission\n",
    "# Create column 'id' from cleaned hdb_test.csv\n",
    "df_kaggle_submission = hdb_test[['id']]"
   ]
  },
  {
   "cell_type": "code",
   "execution_count": 57,
   "id": "f4ebcae5-65ea-41e7-8bef-a6f05af2ef44",
   "metadata": {},
   "outputs": [
    {
     "data": {
      "text/plain": [
       "(16737, 1)"
      ]
     },
     "execution_count": 57,
     "metadata": {},
     "output_type": "execute_result"
    }
   ],
   "source": [
    "# Check the number of rows required for submission\n",
    "df_kaggle_submission.shape"
   ]
  },
  {
   "cell_type": "code",
   "execution_count": 58,
   "id": "826c1039-8ae1-46c1-ad96-ca1c32b2fcff",
   "metadata": {
    "scrolled": true,
    "tags": []
   },
   "outputs": [
    {
     "name": "stderr",
     "output_type": "stream",
     "text": [
      "/var/folders/1k/lmhy97td4h17yfgn7vlzp0ph0000gn/T/ipykernel_30584/1592424808.py:4: SettingWithCopyWarning: \n",
      "A value is trying to be set on a copy of a slice from a DataFrame.\n",
      "Try using .loc[row_indexer,col_indexer] = value instead\n",
      "\n",
      "See the caveats in the documentation: https://pandas.pydata.org/pandas-docs/stable/user_guide/indexing.html#returning-a-view-versus-a-copy\n",
      "  df_kaggle_submission['Predicted'] = hdb_train['resale_price'].mean()\n"
     ]
    },
    {
     "data": {
      "text/html": [
       "<div>\n",
       "<style scoped>\n",
       "    .dataframe tbody tr th:only-of-type {\n",
       "        vertical-align: middle;\n",
       "    }\n",
       "\n",
       "    .dataframe tbody tr th {\n",
       "        vertical-align: top;\n",
       "    }\n",
       "\n",
       "    .dataframe thead th {\n",
       "        text-align: right;\n",
       "    }\n",
       "</style>\n",
       "<table border=\"1\" class=\"dataframe\">\n",
       "  <thead>\n",
       "    <tr style=\"text-align: right;\">\n",
       "      <th></th>\n",
       "      <th>id</th>\n",
       "      <th>Predicted</th>\n",
       "    </tr>\n",
       "  </thead>\n",
       "  <tbody>\n",
       "    <tr>\n",
       "      <th>0</th>\n",
       "      <td>114982</td>\n",
       "      <td>449161.501213</td>\n",
       "    </tr>\n",
       "    <tr>\n",
       "      <th>1</th>\n",
       "      <td>95653</td>\n",
       "      <td>449161.501213</td>\n",
       "    </tr>\n",
       "    <tr>\n",
       "      <th>2</th>\n",
       "      <td>40303</td>\n",
       "      <td>449161.501213</td>\n",
       "    </tr>\n",
       "    <tr>\n",
       "      <th>3</th>\n",
       "      <td>109506</td>\n",
       "      <td>449161.501213</td>\n",
       "    </tr>\n",
       "    <tr>\n",
       "      <th>4</th>\n",
       "      <td>100149</td>\n",
       "      <td>449161.501213</td>\n",
       "    </tr>\n",
       "    <tr>\n",
       "      <th>...</th>\n",
       "      <td>...</td>\n",
       "      <td>...</td>\n",
       "    </tr>\n",
       "    <tr>\n",
       "      <th>16732</th>\n",
       "      <td>23347</td>\n",
       "      <td>449161.501213</td>\n",
       "    </tr>\n",
       "    <tr>\n",
       "      <th>16733</th>\n",
       "      <td>54003</td>\n",
       "      <td>449161.501213</td>\n",
       "    </tr>\n",
       "    <tr>\n",
       "      <th>16734</th>\n",
       "      <td>128921</td>\n",
       "      <td>449161.501213</td>\n",
       "    </tr>\n",
       "    <tr>\n",
       "      <th>16735</th>\n",
       "      <td>69352</td>\n",
       "      <td>449161.501213</td>\n",
       "    </tr>\n",
       "    <tr>\n",
       "      <th>16736</th>\n",
       "      <td>146210</td>\n",
       "      <td>449161.501213</td>\n",
       "    </tr>\n",
       "  </tbody>\n",
       "</table>\n",
       "<p>16737 rows × 2 columns</p>\n",
       "</div>"
      ],
      "text/plain": [
       "           id      Predicted\n",
       "0      114982  449161.501213\n",
       "1       95653  449161.501213\n",
       "2       40303  449161.501213\n",
       "3      109506  449161.501213\n",
       "4      100149  449161.501213\n",
       "...       ...            ...\n",
       "16732   23347  449161.501213\n",
       "16733   54003  449161.501213\n",
       "16734  128921  449161.501213\n",
       "16735   69352  449161.501213\n",
       "16736  146210  449161.501213\n",
       "\n",
       "[16737 rows x 2 columns]"
      ]
     },
     "execution_count": 58,
     "metadata": {},
     "output_type": "execute_result"
    }
   ],
   "source": [
    "# Baseline Model will be comparing the y_actual (y_actual values from test.csv, cleaned) \n",
    "# against y_pred (mean y_actual values from train.csv, cleaned)\n",
    "# kaggle will compute RMSE\n",
    "df_kaggle_submission['Predicted'] = hdb_train['resale_price'].mean()\n",
    "df_kaggle_submission"
   ]
  },
  {
   "cell_type": "code",
   "execution_count": 59,
   "id": "b265af3f-1290-4f73-bc27-a6a851c418f3",
   "metadata": {},
   "outputs": [],
   "source": [
    "# Drop index to fit kaggle submission - is this a neccessary step?\n",
    "df_kaggle_submission.reset_index(drop=True, inplace=True)"
   ]
  },
  {
   "cell_type": "code",
   "execution_count": 60,
   "id": "65212295-1451-4f85-afd7-d035e2595f2f",
   "metadata": {},
   "outputs": [],
   "source": [
    "# Create csv file for Kaggle Baseline Submission\n",
    "df_kaggle_submission.to_csv('../data/kaggle_baseline_submission.csv', index=False)"
   ]
  },
  {
   "cell_type": "markdown",
   "id": "0e503f05-5a7e-4fa8-98ae-84222b37f41e",
   "metadata": {
    "tags": []
   },
   "source": [
    "---\n",
    "## Create CSV for Kaggle Prediction Submission"
   ]
  },
  {
   "cell_type": "code",
   "execution_count": 61,
   "id": "a1cfdefc-ecdd-4175-a4f1-ee0f58076aa6",
   "metadata": {},
   "outputs": [],
   "source": [
    "# import test_df \n",
    "hdb_test = pd.read_pickle('../data/test_df.csv')"
   ]
  },
  {
   "cell_type": "code",
   "execution_count": 62,
   "id": "842ecf75-c0cb-4b84-9cf5-82cba385a918",
   "metadata": {
    "scrolled": true,
    "tags": []
   },
   "outputs": [
    {
     "name": "stdout",
     "output_type": "stream",
     "text": [
      "<class 'pandas.core.frame.DataFrame'>\n",
      "RangeIndex: 16737 entries, 0 to 16736\n",
      "Data columns (total 21 columns):\n",
      " #   Column                       Non-Null Count  Dtype  \n",
      "---  ------                       --------------  -----  \n",
      " 0   floor_area_sqft              16737 non-null  float64\n",
      " 1   hdb_age                      16737 non-null  int64  \n",
      " 2   max_floor_lvl                16737 non-null  int64  \n",
      " 3   mall_nearest_distance        16737 non-null  float64\n",
      " 4   hawker_nearest_distance      16737 non-null  float64\n",
      " 5   mrt_nearest_distance         16737 non-null  float64\n",
      " 6   bus_stop_nearest_distance    16737 non-null  float64\n",
      " 7   pri_sch_nearest_distance     16737 non-null  float64\n",
      " 8   sec_sch_nearest_dist         16737 non-null  float64\n",
      " 9   flat_type_cat                16737 non-null  int8   \n",
      " 10  storey_range_cat             16737 non-null  int8   \n",
      " 11  flat_model_Apartment         16737 non-null  uint8  \n",
      " 12  flat_model_Maisonette        16737 non-null  uint8  \n",
      " 13  flat_model_Model A           16737 non-null  uint8  \n",
      " 14  flat_model_Multi Generation  16737 non-null  uint8  \n",
      " 15  flat_model_New Generation    16737 non-null  uint8  \n",
      " 16  flat_model_Special           16737 non-null  uint8  \n",
      " 17  planning_area_west           16737 non-null  uint8  \n",
      " 18  planning_area_north_east     16737 non-null  uint8  \n",
      " 19  planning_area_east           16737 non-null  uint8  \n",
      " 20  planning_area_north          16737 non-null  uint8  \n",
      "dtypes: float64(7), int64(2), int8(2), uint8(10)\n",
      "memory usage: 1.3 MB\n"
     ]
    }
   ],
   "source": [
    "# Check to see if 'planning_area' has been dummy encoded into 5-1 other dummy variables \n",
    "# 'planning_area_west','planning_area_north_east', 'planning_area_east', 'planning_area_north'\n",
    "# Note that 4 new dummy variables are now numerical (discrete) in nature - uint8\n",
    "hdb_test.info()"
   ]
  },
  {
   "cell_type": "code",
   "execution_count": 63,
   "id": "d3e25a17-6d0f-4382-ad86-491ec0ef3ecc",
   "metadata": {},
   "outputs": [],
   "source": [
    "# Create X_test from hdb_test\n",
    "# Note that previous X_test y_test from hdb_train are merely X_eval and y_eval\n",
    "X_test = hdb_test"
   ]
  },
  {
   "cell_type": "code",
   "execution_count": 64,
   "id": "c4c0632e-691f-4895-b64f-fc098aa3d6e6",
   "metadata": {},
   "outputs": [
    {
     "data": {
      "text/plain": [
       "Index(['floor_area_sqft', 'hdb_age', 'max_floor_lvl', 'mall_nearest_distance',\n",
       "       'hawker_nearest_distance', 'mrt_nearest_distance',\n",
       "       'bus_stop_nearest_distance', 'pri_sch_nearest_distance',\n",
       "       'sec_sch_nearest_dist', 'flat_type_cat', 'storey_range_cat'],\n",
       "      dtype='object')"
      ]
     },
     "execution_count": 64,
     "metadata": {},
     "output_type": "execute_result"
    }
   ],
   "source": [
    "list_numerical "
   ]
  },
  {
   "cell_type": "code",
   "execution_count": 65,
   "id": "3487538e-3818-46b0-b218-91e2f0d444f6",
   "metadata": {},
   "outputs": [],
   "source": [
    "# Standardize only Numerical and Categorical features that have been label encoded.\n",
    "X_test[list_numerical] = ss.transform(X_test[list_numerical])"
   ]
  },
  {
   "cell_type": "code",
   "execution_count": 66,
   "id": "282ebf6c-6564-45d5-ab63-35c314f49da8",
   "metadata": {},
   "outputs": [
    {
     "data": {
      "text/plain": [
       "21"
      ]
     },
     "execution_count": 66,
     "metadata": {},
     "output_type": "execute_result"
    }
   ],
   "source": [
    "len(X_test.columns)"
   ]
  },
  {
   "cell_type": "code",
   "execution_count": 67,
   "id": "2d03f6b7-0ce6-4e9e-80a2-01b0d8964413",
   "metadata": {},
   "outputs": [
    {
     "data": {
      "text/plain": [
       "16737"
      ]
     },
     "execution_count": 67,
     "metadata": {},
     "output_type": "execute_result"
    }
   ],
   "source": [
    "# Make sure there are 16737 y_test_pred values\n",
    "len(X_test)"
   ]
  },
  {
   "cell_type": "code",
   "execution_count": 68,
   "id": "13c35ee4-c93c-4ded-8482-ec19142c8738",
   "metadata": {
    "tags": []
   },
   "outputs": [],
   "source": [
    "# Get predicted values\n",
    "y_test_pred = lr.predict(X_test)"
   ]
  },
  {
   "cell_type": "code",
   "execution_count": 69,
   "id": "4397bd0c-a04b-4e30-b166-3114561e10c0",
   "metadata": {
    "tags": []
   },
   "outputs": [
    {
     "data": {
      "text/plain": [
       "447854.26070267573"
      ]
     },
     "execution_count": 69,
     "metadata": {},
     "output_type": "execute_result"
    }
   ],
   "source": [
    "# Check mean value of y_test_pred\n",
    "y_test_pred.mean()"
   ]
  },
  {
   "cell_type": "code",
   "execution_count": 70,
   "id": "1ff4d9e2-2f8f-4939-88d8-e2679bea2a65",
   "metadata": {},
   "outputs": [
    {
     "data": {
      "text/plain": [
       "16737"
      ]
     },
     "execution_count": 70,
     "metadata": {},
     "output_type": "execute_result"
    }
   ],
   "source": [
    "len(y_test_pred)"
   ]
  },
  {
   "cell_type": "code",
   "execution_count": 71,
   "id": "959723fe-9dc9-407f-ad7d-2528504cc3fb",
   "metadata": {
    "scrolled": true,
    "tags": []
   },
   "outputs": [
    {
     "data": {
      "text/html": [
       "<div>\n",
       "<style scoped>\n",
       "    .dataframe tbody tr th:only-of-type {\n",
       "        vertical-align: middle;\n",
       "    }\n",
       "\n",
       "    .dataframe tbody tr th {\n",
       "        vertical-align: top;\n",
       "    }\n",
       "\n",
       "    .dataframe thead th {\n",
       "        text-align: right;\n",
       "    }\n",
       "</style>\n",
       "<table border=\"1\" class=\"dataframe\">\n",
       "  <thead>\n",
       "    <tr style=\"text-align: right;\">\n",
       "      <th></th>\n",
       "      <th>id</th>\n",
       "      <th>Predicted</th>\n",
       "    </tr>\n",
       "  </thead>\n",
       "  <tbody>\n",
       "    <tr>\n",
       "      <th>0</th>\n",
       "      <td>114982</td>\n",
       "      <td>449161.501213</td>\n",
       "    </tr>\n",
       "    <tr>\n",
       "      <th>1</th>\n",
       "      <td>95653</td>\n",
       "      <td>449161.501213</td>\n",
       "    </tr>\n",
       "    <tr>\n",
       "      <th>2</th>\n",
       "      <td>40303</td>\n",
       "      <td>449161.501213</td>\n",
       "    </tr>\n",
       "  </tbody>\n",
       "</table>\n",
       "</div>"
      ],
      "text/plain": [
       "       id      Predicted\n",
       "0  114982  449161.501213\n",
       "1   95653  449161.501213\n",
       "2   40303  449161.501213"
      ]
     },
     "execution_count": 71,
     "metadata": {},
     "output_type": "execute_result"
    }
   ],
   "source": [
    "# Kaggle Baseline Submission\n",
    "df_kaggle_submission.head(3)"
   ]
  },
  {
   "cell_type": "code",
   "execution_count": 72,
   "id": "2c3ec1ad-5a07-4c28-b7b2-1dfaaa74a06b",
   "metadata": {},
   "outputs": [],
   "source": [
    "df_kaggle_submission['Predicted'] = y_test_pred"
   ]
  },
  {
   "cell_type": "code",
   "execution_count": 73,
   "id": "e29f2c6d-d3d1-4272-b0f3-8ae67660aff0",
   "metadata": {},
   "outputs": [
    {
     "data": {
      "text/plain": [
       "array([315201.95838723, 515522.23798012, 333306.85257192, ...,\n",
       "       415056.82414397, 457027.76432273, 383832.93500723])"
      ]
     },
     "execution_count": 73,
     "metadata": {},
     "output_type": "execute_result"
    }
   ],
   "source": [
    "y_test_pred"
   ]
  },
  {
   "cell_type": "code",
   "execution_count": 74,
   "id": "5dd1ba75-a003-4b41-b38a-6f6a256ff53f",
   "metadata": {
    "scrolled": true,
    "tags": []
   },
   "outputs": [
    {
     "data": {
      "text/html": [
       "<div>\n",
       "<style scoped>\n",
       "    .dataframe tbody tr th:only-of-type {\n",
       "        vertical-align: middle;\n",
       "    }\n",
       "\n",
       "    .dataframe tbody tr th {\n",
       "        vertical-align: top;\n",
       "    }\n",
       "\n",
       "    .dataframe thead th {\n",
       "        text-align: right;\n",
       "    }\n",
       "</style>\n",
       "<table border=\"1\" class=\"dataframe\">\n",
       "  <thead>\n",
       "    <tr style=\"text-align: right;\">\n",
       "      <th></th>\n",
       "      <th>id</th>\n",
       "      <th>Predicted</th>\n",
       "    </tr>\n",
       "  </thead>\n",
       "  <tbody>\n",
       "    <tr>\n",
       "      <th>0</th>\n",
       "      <td>114982</td>\n",
       "      <td>315201.958387</td>\n",
       "    </tr>\n",
       "    <tr>\n",
       "      <th>1</th>\n",
       "      <td>95653</td>\n",
       "      <td>515522.237980</td>\n",
       "    </tr>\n",
       "    <tr>\n",
       "      <th>2</th>\n",
       "      <td>40303</td>\n",
       "      <td>333306.852572</td>\n",
       "    </tr>\n",
       "  </tbody>\n",
       "</table>\n",
       "</div>"
      ],
      "text/plain": [
       "       id      Predicted\n",
       "0  114982  315201.958387\n",
       "1   95653  515522.237980\n",
       "2   40303  333306.852572"
      ]
     },
     "execution_count": 74,
     "metadata": {},
     "output_type": "execute_result"
    }
   ],
   "source": [
    "df_kaggle_submission.head(3)"
   ]
  },
  {
   "cell_type": "code",
   "execution_count": 75,
   "id": "5e4c6729-6ade-45a0-b2d9-750d50ca98f0",
   "metadata": {},
   "outputs": [
    {
     "data": {
      "text/plain": [
       "(16737, 2)"
      ]
     },
     "execution_count": 75,
     "metadata": {},
     "output_type": "execute_result"
    }
   ],
   "source": [
    "df_kaggle_submission.shape"
   ]
  },
  {
   "cell_type": "code",
   "execution_count": 76,
   "id": "ff6eacc4-477f-44c1-9dad-d4d161fa4c1e",
   "metadata": {},
   "outputs": [],
   "source": [
    "# Kaggle Prediction Submission\n",
    "df_kaggle_submission.to_csv('../data/kaggle_prediction_submission.csv', index=False)"
   ]
  },
  {
   "attachments": {
    "47575431-ec0c-4d0b-b79f-6a7e02e6c137.png": {
     "image/png": "[encoded data removed]"
    }
   },
   "cell_type": "markdown",
   "id": "f0c1a565-2a80-4bc9-909b-c226069f2dd1",
   "metadata": {},
   "source": [
    "## Kaggle Submission # 1 Screenshot\n",
    "![kaggle_submissions.png](attachment:47575431-ec0c-4d0b-b79f-6a7e02e6c137.png)"
   ]
  },
  {
   "cell_type": "code",
   "execution_count": 77,
   "id": "6873e010-b04d-4b2b-80fc-51e91a9251df",
   "metadata": {},
   "outputs": [
    {
     "name": "stdout",
     "output_type": "stream",
     "text": [
      "                              Coefficients\n",
      "floor_area_sqft               77423.652194\n",
      "hdb_age                      -31953.202095\n",
      "max_floor_lvl                 22922.144959\n",
      "mall_nearest_distance         -4516.719565\n",
      "hawker_nearest_distance      -22576.739431\n",
      "mrt_nearest_distance         -20569.629690\n",
      "bus_stop_nearest_distance      1117.560230\n",
      "pri_sch_nearest_distance       4822.321960\n",
      "sec_sch_nearest_dist            957.413681\n",
      "flat_type_cat                 21458.487038\n",
      "storey_range_cat              18594.841771\n",
      "flat_model_Apartment          13797.783918\n",
      "flat_model_Maisonette         67656.254925\n",
      "flat_model_Model A            13130.931262\n",
      "flat_model_Multi Generation  119929.231448\n",
      "flat_model_New Generation     40762.513400\n",
      "flat_model_Special           140783.153364\n",
      "planning_area_west          -126263.056124\n",
      "planning_area_north_east     -90515.866199\n",
      "planning_area_east           -78583.086523\n",
      "planning_area_north         -162410.367478\n"
     ]
    }
   ],
   "source": [
    "cdf = pd.DataFrame(lr.coef_, X.columns, columns=['Coefficients'])\n",
    "print(cdf)"
   ]
  },
  {
   "cell_type": "code",
   "execution_count": 78,
   "id": "022ca9cb-b701-4403-a997-800901a98e79",
   "metadata": {},
   "outputs": [
    {
     "data": {
      "text/html": [
       "<div>\n",
       "<style scoped>\n",
       "    .dataframe tbody tr th:only-of-type {\n",
       "        vertical-align: middle;\n",
       "    }\n",
       "\n",
       "    .dataframe tbody tr th {\n",
       "        vertical-align: top;\n",
       "    }\n",
       "\n",
       "    .dataframe thead th {\n",
       "        text-align: right;\n",
       "    }\n",
       "</style>\n",
       "<table border=\"1\" class=\"dataframe\">\n",
       "  <thead>\n",
       "    <tr style=\"text-align: right;\">\n",
       "      <th></th>\n",
       "      <th>Coefficients</th>\n",
       "    </tr>\n",
       "  </thead>\n",
       "  <tbody>\n",
       "    <tr>\n",
       "      <th>flat_model_Special</th>\n",
       "      <td>140783.153364</td>\n",
       "    </tr>\n",
       "    <tr>\n",
       "      <th>flat_model_Multi Generation</th>\n",
       "      <td>119929.231448</td>\n",
       "    </tr>\n",
       "    <tr>\n",
       "      <th>floor_area_sqft</th>\n",
       "      <td>77423.652194</td>\n",
       "    </tr>\n",
       "    <tr>\n",
       "      <th>flat_model_Maisonette</th>\n",
       "      <td>67656.254925</td>\n",
       "    </tr>\n",
       "    <tr>\n",
       "      <th>flat_model_New Generation</th>\n",
       "      <td>40762.513400</td>\n",
       "    </tr>\n",
       "    <tr>\n",
       "      <th>max_floor_lvl</th>\n",
       "      <td>22922.144959</td>\n",
       "    </tr>\n",
       "    <tr>\n",
       "      <th>flat_type_cat</th>\n",
       "      <td>21458.487038</td>\n",
       "    </tr>\n",
       "    <tr>\n",
       "      <th>storey_range_cat</th>\n",
       "      <td>18594.841771</td>\n",
       "    </tr>\n",
       "    <tr>\n",
       "      <th>flat_model_Apartment</th>\n",
       "      <td>13797.783918</td>\n",
       "    </tr>\n",
       "    <tr>\n",
       "      <th>flat_model_Model A</th>\n",
       "      <td>13130.931262</td>\n",
       "    </tr>\n",
       "    <tr>\n",
       "      <th>pri_sch_nearest_distance</th>\n",
       "      <td>4822.321960</td>\n",
       "    </tr>\n",
       "    <tr>\n",
       "      <th>bus_stop_nearest_distance</th>\n",
       "      <td>1117.560230</td>\n",
       "    </tr>\n",
       "    <tr>\n",
       "      <th>sec_sch_nearest_dist</th>\n",
       "      <td>957.413681</td>\n",
       "    </tr>\n",
       "    <tr>\n",
       "      <th>mall_nearest_distance</th>\n",
       "      <td>-4516.719565</td>\n",
       "    </tr>\n",
       "    <tr>\n",
       "      <th>mrt_nearest_distance</th>\n",
       "      <td>-20569.629690</td>\n",
       "    </tr>\n",
       "    <tr>\n",
       "      <th>hawker_nearest_distance</th>\n",
       "      <td>-22576.739431</td>\n",
       "    </tr>\n",
       "    <tr>\n",
       "      <th>hdb_age</th>\n",
       "      <td>-31953.202095</td>\n",
       "    </tr>\n",
       "    <tr>\n",
       "      <th>planning_area_east</th>\n",
       "      <td>-78583.086523</td>\n",
       "    </tr>\n",
       "    <tr>\n",
       "      <th>planning_area_north_east</th>\n",
       "      <td>-90515.866199</td>\n",
       "    </tr>\n",
       "    <tr>\n",
       "      <th>planning_area_west</th>\n",
       "      <td>-126263.056124</td>\n",
       "    </tr>\n",
       "    <tr>\n",
       "      <th>planning_area_north</th>\n",
       "      <td>-162410.367478</td>\n",
       "    </tr>\n",
       "  </tbody>\n",
       "</table>\n",
       "</div>"
      ],
      "text/plain": [
       "                              Coefficients\n",
       "flat_model_Special           140783.153364\n",
       "flat_model_Multi Generation  119929.231448\n",
       "floor_area_sqft               77423.652194\n",
       "flat_model_Maisonette         67656.254925\n",
       "flat_model_New Generation     40762.513400\n",
       "max_floor_lvl                 22922.144959\n",
       "flat_type_cat                 21458.487038\n",
       "storey_range_cat              18594.841771\n",
       "flat_model_Apartment          13797.783918\n",
       "flat_model_Model A            13130.931262\n",
       "pri_sch_nearest_distance       4822.321960\n",
       "bus_stop_nearest_distance      1117.560230\n",
       "sec_sch_nearest_dist            957.413681\n",
       "mall_nearest_distance         -4516.719565\n",
       "mrt_nearest_distance         -20569.629690\n",
       "hawker_nearest_distance      -22576.739431\n",
       "hdb_age                      -31953.202095\n",
       "planning_area_east           -78583.086523\n",
       "planning_area_north_east     -90515.866199\n",
       "planning_area_west          -126263.056124\n",
       "planning_area_north         -162410.367478"
      ]
     },
     "execution_count": 78,
     "metadata": {},
     "output_type": "execute_result"
    }
   ],
   "source": [
    "cdf.sort_values(by='Coefficients', ascending=False)"
   ]
  }
 ],
 "metadata": {
  "kernelspec": {
   "display_name": "dsi-sg",
   "language": "python",
   "name": "dsi-sg"
  },
  "language_info": {
   "codemirror_mode": {
    "name": "ipython",
    "version": 3
   },
   "file_extension": ".py",
   "mimetype": "text/x-python",
   "name": "python",
   "nbconvert_exporter": "python",
   "pygments_lexer": "ipython3",
   "version": "3.9.13"
  }
 },
 "nbformat": 4,
 "nbformat_minor": 5
}
